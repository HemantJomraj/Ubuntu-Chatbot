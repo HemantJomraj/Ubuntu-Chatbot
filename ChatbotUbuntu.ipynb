{
 "cells": [
  {
   "cell_type": "code",
   "execution_count": 1,
   "metadata": {
    "colab": {
     "base_uri": "https://localhost:8080/",
     "height": 119
    },
    "colab_type": "code",
    "executionInfo": {
     "elapsed": 6890,
     "status": "ok",
     "timestamp": 1554712194940,
     "user": {
      "displayName": "Darshan Kakwani",
      "photoUrl": "",
      "userId": "06813604131485796128"
     },
     "user_tz": -330
    },
    "id": "TbYNe-iW0qaR",
    "outputId": "f95c3008-535e-4baa-e036-c996952ff92e"
   },
   "outputs": [
    {
     "name": "stdout",
     "output_type": "stream",
     "text": [
      "Requirement already satisfied: tensorflow==1.0 in /usr/local/lib/python3.6/dist-packages (1.0.0)\n",
      "Requirement already satisfied: numpy>=1.11.0 in /usr/local/lib/python3.6/dist-packages (from tensorflow==1.0) (1.14.6)\n",
      "Requirement already satisfied: wheel>=0.26 in /usr/local/lib/python3.6/dist-packages (from tensorflow==1.0) (0.33.1)\n",
      "Requirement already satisfied: protobuf>=3.1.0 in /usr/local/lib/python3.6/dist-packages (from tensorflow==1.0) (3.7.1)\n",
      "Requirement already satisfied: six>=1.10.0 in /usr/local/lib/python3.6/dist-packages (from tensorflow==1.0) (1.11.0)\n",
      "Requirement already satisfied: setuptools in /usr/local/lib/python3.6/dist-packages (from protobuf>=3.1.0->tensorflow==1.0) (40.9.0)\n"
     ]
    }
   ],
   "source": [
    "!pip install tensorflow==1.0"
   ]
  },
  {
   "cell_type": "code",
   "execution_count": 0,
   "metadata": {
    "colab": {},
    "colab_type": "code",
    "id": "PgSoLStT3fOr"
   },
   "outputs": [],
   "source": [
    "# Importing the Libraries\n",
    "\n",
    "import numpy as np\n",
    "import tensorflow as tf\n",
    "import re\n",
    "import time"
   ]
  },
  {
   "cell_type": "code",
   "execution_count": 3,
   "metadata": {
    "colab": {
     "base_uri": "https://localhost:8080/",
     "height": 34
    },
    "colab_type": "code",
    "executionInfo": {
     "elapsed": 7769,
     "status": "ok",
     "timestamp": 1554712195884,
     "user": {
      "displayName": "Darshan Kakwani",
      "photoUrl": "",
      "userId": "06813604131485796128"
     },
     "user_tz": -330
    },
    "id": "GR2SlP1jqtF5",
    "outputId": "f35773a7-8484-45cc-a25a-9679a1e74cbd"
   },
   "outputs": [
    {
     "name": "stdout",
     "output_type": "stream",
     "text": [
      "Drive already mounted at /content/drive/; to attempt to forcibly remount, call drive.mount(\"/content/drive/\", force_remount=True).\n"
     ]
    }
   ],
   "source": [
    "from google.colab import drive\n",
    "drive.mount('/content/drive/')"
   ]
  },
  {
   "cell_type": "code",
   "execution_count": 5,
   "metadata": {
    "colab": {
     "base_uri": "https://localhost:8080/",
     "height": 204
    },
    "colab_type": "code",
    "executionInfo": {
     "elapsed": 133707,
     "status": "ok",
     "timestamp": 1554712321872,
     "user": {
      "displayName": "Darshan Kakwani",
      "photoUrl": "",
      "userId": "06813604131485796128"
     },
     "user_tz": -330
    },
    "id": "OxiNsfSPrut9",
    "outputId": "920c7cbd-0a50-4bbd-e4fc-fc1ac470a0b2"
   },
   "outputs": [
    {
     "data": {
      "text/html": [
       "<div>\n",
       "<style scoped>\n",
       "    .dataframe tbody tr th:only-of-type {\n",
       "        vertical-align: middle;\n",
       "    }\n",
       "\n",
       "    .dataframe tbody tr th {\n",
       "        vertical-align: top;\n",
       "    }\n",
       "\n",
       "    .dataframe thead th {\n",
       "        text-align: right;\n",
       "    }\n",
       "</style>\n",
       "<table border=\"1\" class=\"dataframe\">\n",
       "  <thead>\n",
       "    <tr style=\"text-align: right;\">\n",
       "      <th></th>\n",
       "      <th>dialogueID</th>\n",
       "      <th>text</th>\n",
       "    </tr>\n",
       "  </thead>\n",
       "  <tbody>\n",
       "    <tr>\n",
       "      <th>0</th>\n",
       "      <td>1.tsv</td>\n",
       "      <td>any ideas why java plugin takes so long to load?</td>\n",
       "    </tr>\n",
       "    <tr>\n",
       "      <th>1</th>\n",
       "      <td>1.tsv</td>\n",
       "      <td>java 1.4?</td>\n",
       "    </tr>\n",
       "    <tr>\n",
       "      <th>2</th>\n",
       "      <td>1.tsv</td>\n",
       "      <td>java 1.5 loads _much_ faster</td>\n",
       "    </tr>\n",
       "    <tr>\n",
       "      <th>3</th>\n",
       "      <td>1.tsv</td>\n",
       "      <td>thanks, i'll try that, screwed up and tried to...</td>\n",
       "    </tr>\n",
       "    <tr>\n",
       "      <th>4</th>\n",
       "      <td>1.tsv</td>\n",
       "      <td>1.42 is latest IBM java?</td>\n",
       "    </tr>\n",
       "  </tbody>\n",
       "</table>\n",
       "</div>"
      ],
      "text/plain": [
       "  dialogueID                                               text\n",
       "0      1.tsv   any ideas why java plugin takes so long to load?\n",
       "1      1.tsv                                          java 1.4?\n",
       "2      1.tsv                       java 1.5 loads _much_ faster\n",
       "3      1.tsv  thanks, i'll try that, screwed up and tried to...\n",
       "4      1.tsv                           1.42 is latest IBM java?"
      ]
     },
     "execution_count": 5,
     "metadata": {
      "tags": []
     },
     "output_type": "execute_result"
    }
   ],
   "source": [
    "import pandas as pd\n",
    "dataset = pd.DataFrame(columns=['dialogueID', 'text'])\n",
    "dataset_index = 0\n",
    "full_dataset = pd.read_csv(\"drive/My Drive/BE Project/dialogueText_196.csv\")\n",
    "full_dataset.columns = ['folder', 'dialogueID', 'date', 'fr_om', 'to', 'text']\n",
    "full_dataset = full_dataset.drop(['folder', 'date', 'fr_om', 'to'], axis = 1)\n",
    "for index, row in full_dataset.iterrows():\n",
    "  if str(row['text']).lower().count(\"java\") > 0:\n",
    "    dataset.loc[dataset_index] = [row['dialogueID'], row['text']]\n",
    "    dataset_index += 1\n",
    "    if dataset_index == 5000:\n",
    "      break\n",
    "dataset.head(5)"
   ]
  },
  {
   "cell_type": "code",
   "execution_count": 0,
   "metadata": {
    "colab": {},
    "colab_type": "code",
    "id": "kkFJ5dHTzSFl"
   },
   "outputs": [],
   "source": [
    "# Adding an id column\n",
    "\n",
    "dataset_size = dataset.shape[0]\n",
    "id_column = []\n",
    "for n in range(0, dataset_size):\n",
    "  id_column.append(\"L\" + str(n))\n",
    "\n",
    "dataset['id'] = id_column"
   ]
  },
  {
   "cell_type": "code",
   "execution_count": 7,
   "metadata": {
    "colab": {
     "base_uri": "https://localhost:8080/",
     "height": 221
    },
    "colab_type": "code",
    "executionInfo": {
     "elapsed": 133618,
     "status": "ok",
     "timestamp": 1554712321876,
     "user": {
      "displayName": "Darshan Kakwani",
      "photoUrl": "",
      "userId": "06813604131485796128"
     },
     "user_tz": -330
    },
    "id": "1ObvM0K37boV",
    "outputId": "5c008c2d-1603-485d-859c-18fef71a4775"
   },
   "outputs": [
    {
     "name": "stdout",
     "output_type": "stream",
     "text": [
      "5000\n"
     ]
    },
    {
     "data": {
      "text/html": [
       "<div>\n",
       "<style scoped>\n",
       "    .dataframe tbody tr th:only-of-type {\n",
       "        vertical-align: middle;\n",
       "    }\n",
       "\n",
       "    .dataframe tbody tr th {\n",
       "        vertical-align: top;\n",
       "    }\n",
       "\n",
       "    .dataframe thead th {\n",
       "        text-align: right;\n",
       "    }\n",
       "</style>\n",
       "<table border=\"1\" class=\"dataframe\">\n",
       "  <thead>\n",
       "    <tr style=\"text-align: right;\">\n",
       "      <th></th>\n",
       "      <th>dialogueID</th>\n",
       "      <th>text</th>\n",
       "      <th>id</th>\n",
       "    </tr>\n",
       "  </thead>\n",
       "  <tbody>\n",
       "    <tr>\n",
       "      <th>0</th>\n",
       "      <td>1.tsv</td>\n",
       "      <td>any ideas why java plugin takes so long to load?</td>\n",
       "      <td>L0</td>\n",
       "    </tr>\n",
       "    <tr>\n",
       "      <th>1</th>\n",
       "      <td>1.tsv</td>\n",
       "      <td>java 1.4?</td>\n",
       "      <td>L1</td>\n",
       "    </tr>\n",
       "    <tr>\n",
       "      <th>2</th>\n",
       "      <td>1.tsv</td>\n",
       "      <td>java 1.5 loads _much_ faster</td>\n",
       "      <td>L2</td>\n",
       "    </tr>\n",
       "    <tr>\n",
       "      <th>3</th>\n",
       "      <td>1.tsv</td>\n",
       "      <td>thanks, i'll try that, screwed up and tried to...</td>\n",
       "      <td>L3</td>\n",
       "    </tr>\n",
       "    <tr>\n",
       "      <th>4</th>\n",
       "      <td>1.tsv</td>\n",
       "      <td>1.42 is latest IBM java?</td>\n",
       "      <td>L4</td>\n",
       "    </tr>\n",
       "  </tbody>\n",
       "</table>\n",
       "</div>"
      ],
      "text/plain": [
       "  dialogueID                                               text  id\n",
       "0      1.tsv   any ideas why java plugin takes so long to load?  L0\n",
       "1      1.tsv                                          java 1.4?  L1\n",
       "2      1.tsv                       java 1.5 loads _much_ faster  L2\n",
       "3      1.tsv  thanks, i'll try that, screwed up and tried to...  L3\n",
       "4      1.tsv                           1.42 is latest IBM java?  L4"
      ]
     },
     "execution_count": 7,
     "metadata": {
      "tags": []
     },
     "output_type": "execute_result"
    }
   ],
   "source": [
    "print(dataset_size)\n",
    "dataset.head(5)"
   ]
  },
  {
   "cell_type": "code",
   "execution_count": 0,
   "metadata": {
    "colab": {},
    "colab_type": "code",
    "id": "BXJlzgaP7g4q"
   },
   "outputs": [],
   "source": [
    "# Dictionary that maps each line and its id\n",
    "\n",
    "id2line = {}\n",
    "for index, row in dataset.iterrows():\n",
    "  id2line[row['id']] = row['text']"
   ]
  },
  {
   "cell_type": "code",
   "execution_count": 9,
   "metadata": {
    "colab": {
     "base_uri": "https://localhost:8080/",
     "height": 51
    },
    "colab_type": "code",
    "executionInfo": {
     "elapsed": 133568,
     "status": "ok",
     "timestamp": 1554712321880,
     "user": {
      "displayName": "Darshan Kakwani",
      "photoUrl": "",
      "userId": "06813604131485796128"
     },
     "user_tz": -330
    },
    "id": "TGk7Wx4GBUi9",
    "outputId": "edc85833-465e-48db-9e27-a01bb0d8592e"
   },
   "outputs": [
    {
     "name": "stdout",
     "output_type": "stream",
     "text": [
      "any ideas why java plugin takes so long to load?\n",
      "thanks, i'll try that, screwed up and tried to upgrade firefox/java on my own now java takes real long time to load\n"
     ]
    }
   ],
   "source": [
    "print(id2line['L0'])\n",
    "print(id2line['L3'])"
   ]
  },
  {
   "cell_type": "code",
   "execution_count": 0,
   "metadata": {
    "colab": {},
    "colab_type": "code",
    "id": "yuWC1wEZGUXA"
   },
   "outputs": [],
   "source": [
    "# List of all conversations\n",
    "\n",
    "conversations_ids = []\n",
    "inside_list = []\n",
    "o_d_id = \"\"\n",
    "for index, row in dataset.iterrows():\n",
    "  if index == 0:\n",
    "    inside_list.append(row['id'])\n",
    "    o_d_id = str(row['dialogueID'])\n",
    "    continue\n",
    "  i_d_id = str(row['dialogueID'])\n",
    "  if i_d_id == o_d_id:\n",
    "    inside_list.append(row['id'])\n",
    "  else:\n",
    "    o_d_id = i_d_id\n",
    "    conversations_ids.append(inside_list)\n",
    "    inside_list = []\n",
    "    inside_list.append(row['id'])\n",
    "conversations_ids.append(inside_list)"
   ]
  },
  {
   "cell_type": "code",
   "execution_count": 11,
   "metadata": {
    "colab": {
     "base_uri": "https://localhost:8080/",
     "height": 34
    },
    "colab_type": "code",
    "executionInfo": {
     "elapsed": 134023,
     "status": "ok",
     "timestamp": 1554712322391,
     "user": {
      "displayName": "Darshan Kakwani",
      "photoUrl": "",
      "userId": "06813604131485796128"
     },
     "user_tz": -330
    },
    "id": "Aa2qDz2IP2u4",
    "outputId": "8e3dc267-6088-46aa-d5c6-8534816501e8"
   },
   "outputs": [
    {
     "name": "stdout",
     "output_type": "stream",
     "text": [
      "[['L9', 'L10', 'L11', 'L12', 'L13'], ['L14', 'L15', 'L16', 'L17', 'L18', 'L19', 'L20', 'L21', 'L22', 'L23', 'L24', 'L25', 'L26', 'L27', 'L28', 'L29'], ['L30', 'L31']]\n"
     ]
    }
   ],
   "source": [
    "print(conversations_ids[2:5])"
   ]
  },
  {
   "cell_type": "code",
   "execution_count": 0,
   "metadata": {
    "colab": {},
    "colab_type": "code",
    "id": "hDPk6jtBbrNg"
   },
   "outputs": [],
   "source": [
    "# Getting questions and answers separately\n",
    "\n",
    "questions = []\n",
    "answers = []\n",
    "for conversation in conversations_ids:\n",
    "  for i in range(len(conversation) - 1):\n",
    "    questions.append(id2line[conversation[i]])\n",
    "    answers.append(id2line[conversation[i + 1]])"
   ]
  },
  {
   "cell_type": "code",
   "execution_count": 13,
   "metadata": {
    "colab": {
     "base_uri": "https://localhost:8080/",
     "height": 71
    },
    "colab_type": "code",
    "executionInfo": {
     "elapsed": 133953,
     "status": "ok",
     "timestamp": 1554712322396,
     "user": {
      "displayName": "Darshan Kakwani",
      "photoUrl": "",
      "userId": "06813604131485796128"
     },
     "user_tz": -330
    },
    "id": "tSB_MXNieJP0",
    "outputId": "e1d3d15c-bf25-4c23-a5ee-1c19d215df48"
   },
   "outputs": [
    {
     "name": "stdout",
     "output_type": "stream",
     "text": [
      "['any ideas why java plugin takes so long to load?', 'java 1.4?', 'java 1.5 loads _much_ faster', \"thanks, i'll try that, screwed up and tried to upgrade firefox/java on my own now java takes real long time to load\", '1.42 is latest IBM java?']\n",
      "['java 1.4?', 'java 1.5 loads _much_ faster', \"thanks, i'll try that, screwed up and tried to upgrade firefox/java on my own now java takes real long time to load\", '1.42 is latest IBM java?', \"do you have j2se-common installed in ubuntu as well is ibm's java?\"]\n"
     ]
    }
   ],
   "source": [
    "print(questions[:5])\n",
    "print(answers[:5])"
   ]
  },
  {
   "cell_type": "code",
   "execution_count": 0,
   "metadata": {
    "colab": {},
    "colab_type": "code",
    "id": "0vG_k6YmeYxG"
   },
   "outputs": [],
   "source": [
    "# First cleaning of the text\n",
    "\n",
    "def clean_text(text):\n",
    "  text = text.lower()\n",
    "  text = re.sub(r\"aren't\", \"are not\", text)\n",
    "  text = re.sub(r\"can't\", \"cannot\", text)\n",
    "  text = re.sub(r\"couldn't\", \"could not\", text)\n",
    "  text = re.sub(r\"didn't\", \"did not\", text)\n",
    "  text = re.sub(r\"doesn't\", \"does not\", text)\n",
    "  text = re.sub(r\"don't\", \"do not\", text)\n",
    "  text = re.sub(r\"hadn't\", \"had not\", text)\n",
    "  text = re.sub(r\"hasn't\", \"has not\", text)\n",
    "  text = re.sub(r\"haven't\", \"have not\", text)\n",
    "  text = re.sub(r\"he'd\", \"he had\", text)\n",
    "  text = re.sub(r\"he'll\", \"he will\", text)\n",
    "  text = re.sub(r\"he's\", \"he is\", text)\n",
    "  text = re.sub(r\"I'd\", \"I had\", text)\n",
    "  text = re.sub(r\"I'll\", \"I will\", text)\n",
    "  text = re.sub(r\"I'm\", \"I am\", text)\n",
    "  text = re.sub(r\"I've\", \"I have\", text)\n",
    "  text = re.sub(r\"isn't\", \"is not\", text)\n",
    "  text = re.sub(r\"it's\", \"it is\", text)\n",
    "  text = re.sub(r\"let's\", \"let us\", text)\n",
    "  text = re.sub(r\"mustn't\", \"must not\", text)\n",
    "  text = re.sub(r\"shan't\", \"shall not\", text)\n",
    "  text = re.sub(r\"she'd\", \"she had\", text)\n",
    "  text = re.sub(r\"she'll\", \"she will\", text)\n",
    "  text = re.sub(r\"she's\", \"she is\", text)\n",
    "  text = re.sub(r\"shouldn't\", \"should not\", text)\n",
    "  text = re.sub(r\"that's\", \"that is\", text)\n",
    "  text = re.sub(r\"there's\", \"there is\", text)\n",
    "  text = re.sub(r\"they'd\", \"they had\", text)\n",
    "  text = re.sub(r\"they'll\", \"they will\", text)\n",
    "  text = re.sub(r\"they're\", \"they are\", text)\n",
    "  text = re.sub(r\"they've\", \"they have\", text)\n",
    "  text = re.sub(r\"we'd\", \"we had\", text)\n",
    "  text = re.sub(r\"we're\", \"we are\", text)\n",
    "  text = re.sub(r\"we've\", \"we have\", text)\n",
    "  text = re.sub(r\"weren't\", \"were not\", text)\n",
    "  text = re.sub(r\"what'll\", \"what will\", text)\n",
    "  text = re.sub(r\"what're\", \"what are\", text)\n",
    "  text = re.sub(r\"what's\", \"what is\", text)\n",
    "  text = re.sub(r\"what've\", \"what have\", text)\n",
    "  text = re.sub(r\"where's\", \"where is\", text)\n",
    "  text = re.sub(r\"who'll\", \"who will\", text)\n",
    "  text = re.sub(r\"who're\", \"who are\", text)\n",
    "  text = re.sub(r\"who's\", \"who is\", text)\n",
    "  text = re.sub(r\"who've\", \"who have\", text)\n",
    "  text = re.sub(r\"won't\", \"will not\", text)\n",
    "  text = re.sub(r\"wouldn't\", \"would not\", text)\n",
    "  text = re.sub(r\"you'd\", \"you had\", text)\n",
    "  text = re.sub(r\"you'll\", \"you will\", text)\n",
    "  text = re.sub(r\"you're\", \"you are\", text)\n",
    "  text = re.sub(r\"you've\", \"you have\", text)\n",
    "  text = re.sub(r\"&\", \"and\", text)\n",
    "  text = re.sub(r\"[~`!@#$%^*()-_+={}:;'<,>.?/\\|]\", \"\", text)\n",
    "  text = re.sub(r\"  \", \" \", text)\n",
    "  if(text.endswith(\" \") or text.startswith(\" \")):\n",
    "    text = re.sub(r\" \", \"\", text)\n",
    "  return text"
   ]
  },
  {
   "cell_type": "code",
   "execution_count": 0,
   "metadata": {
    "colab": {},
    "colab_type": "code",
    "id": "Q-g1Rgt2k4En"
   },
   "outputs": [],
   "source": [
    "# Cleaning the questions and the answers\n",
    "\n",
    "clean_questions = []\n",
    "for question in questions:\n",
    "  clean_questions.append(clean_text(str(question)))\n",
    "\n",
    "clean_answers = []\n",
    "for answer in answers:\n",
    "  clean_answers.append(clean_text(str(answer)))"
   ]
  },
  {
   "cell_type": "code",
   "execution_count": 16,
   "metadata": {
    "colab": {
     "base_uri": "https://localhost:8080/",
     "height": 71
    },
    "colab_type": "code",
    "executionInfo": {
     "elapsed": 133910,
     "status": "ok",
     "timestamp": 1554712322402,
     "user": {
      "displayName": "Darshan Kakwani",
      "photoUrl": "",
      "userId": "06813604131485796128"
     },
     "user_tz": -330
    },
    "id": "308iNDtEtuag",
    "outputId": "a6bc7675-f14f-495b-80f6-17f1a70e50b1"
   },
   "outputs": [
    {
     "name": "stdout",
     "output_type": "stream",
     "text": [
      "['any ideas why java plugin takes so long to load', 'java', 'java loads much faster', 'thanks ill try that screwed up and tried to upgrade firefoxjava on my own now java takes real long time to load', 'islatestibmjava']\n",
      "['java', 'java loads much faster', 'thanks ill try that screwed up and tried to upgrade firefoxjava on my own now java takes real long time to load', 'islatestibmjava', 'do you have jsecommon installed in ubuntu as well is ibms java']\n"
     ]
    }
   ],
   "source": [
    "print(clean_questions[:5])\n",
    "print(clean_answers[:5])"
   ]
  },
  {
   "cell_type": "code",
   "execution_count": 0,
   "metadata": {
    "colab": {},
    "colab_type": "code",
    "id": "RIph0dvzuF99"
   },
   "outputs": [],
   "source": [
    "# Dictionary that maps each word to its number of occurences\n",
    "\n",
    "word2count = {}\n",
    "for question in clean_questions:\n",
    "  for word in question.split():\n",
    "    if word not in word2count:\n",
    "      word2count[word] = 1\n",
    "    else:\n",
    "      word2count[word] += 1\n",
    "for answer in clean_answers:\n",
    "  for word in answer.split():\n",
    "    if word not in word2count:\n",
    "      word2count[word] = 1\n",
    "    else:\n",
    "      word2count[word] += 1"
   ]
  },
  {
   "cell_type": "code",
   "execution_count": 18,
   "metadata": {
    "colab": {
     "base_uri": "https://localhost:8080/",
     "height": 54
    },
    "colab_type": "code",
    "executionInfo": {
     "elapsed": 134964,
     "status": "ok",
     "timestamp": 1554712323484,
     "user": {
      "displayName": "Darshan Kakwani",
      "photoUrl": "",
      "userId": "06813604131485796128"
     },
     "user_tz": -330
    },
    "id": "eKHcV_o-y63s",
    "outputId": "25420c3f-71a4-4055-b246-9f32b459c29b"
   },
   "outputs": [
    {
     "name": "stdout",
     "output_type": "stream",
     "text": [
      "{'any': 103, 'ideas': 13, 'why': 74, 'java': 3561, 'plugin': 199, 'takes': 10, 'so': 232, 'long': 12, 'to': 1561, 'load': 30, 'loads': 10, 'much': 36, 'faster': 6, 'thanks': 33, 'ill': 25, 'try': 199, 'that': 646, 'screwed': 4, 'up': 85, 'and': 1084, 'tried': 59, 'upgrade': 16, 'firefoxjava': 2, 'on': 352, 'my': 253, 'own': 6, 'now': 150, 'real': 16, 'time': 39, 'islatestibmjava': 2, 'do': 588, 'you': 1250, 'have': 622, 'jsecommon': 2, 'installed': 429, 'in': 687, 'ubuntu': 175, 'as': 195, 'well': 145, 'is': 1349, 'ibms': 5, 'i': 1972, 'not': 775, 'know': 174, 'what': 345, 'no': 201, 'matter': 15, 'use': 224, 'it': 1165, 'a': 923, 'really': 51, 'applet': 52, 'problems': 10, 'smeared': 1, 'display': 10, 'some': 91, 'pages': 5, 'with': 431, 'others': 14, 'idonotknowwhatisjvmiinstalledjavaruntime': 2, 'the': 1934, 'output': 37, 'of': 402, 'updatejavaalternatives': 47, 'l': 25, 'run': 214, 'sudo': 458, 's': 60, 'javasun': 34, 'nwhen': 1, 'connect': 13, 'vnc': 3, 'server': 30, 'via': 16, 'browser': 77, 'get': 263, 'quick': 7, 'black': 3, 'screen': 8, 'flash': 98, 'then': 187, 'javalangillegalstateexception': 1, 'old': 19, 'input': 1, 'was': 148, 'completely': 5, 'processed': 1, 'howcome': 1, 'or': 293, 'your': 181, 'are': 256, 'blame': 3, 'os': 8, 'running': 86, 'client': 8, 'system': 59, 'firefox': 204, 'id': 17, 'look': 43, 'at': 81, 'putting': 6, 'bit': 119, 'can': 346, 'suns': 54, 'help': 129, 'isnt': 26, 'implemented': 2, 'properly': 11, 'yet': 19, 'am': 76, 'tho': 3, 'aptget': 254, 'sunjavajdk': 85, 'thats': 32, 'dev': 5, 'kit': 8, 'failing': 6, 'vm': 21, 'linux': 80, 'test': 23, 'downloaded': 35, 'off': 32, 'their': 14, 'site': 55, 'file': 183, 'jreulinuxibin': 4, 'ran': 12, 'chmod': 11, 'filebin': 2, 'extracted': 4, 'folder': 26, 'called': 28, 'jre': 102, 'if': 306, 'got': 81, 'theres': 10, 'guide': 23, 'go': 72, 'httpwwwjavacomendownloadhelpxml': 3, 'did': 174, 'ok': 138, 'using': 135, 'javaversion': 14, 'there': 268, 'jreuversionlinuxibin': 2, 'virtual': 28, 'machine': 52, 'idea': 14, 'how': 333, 'httpubuntubackportsmirrormaxnetdistshoaryextrasrestrictedbinaryisunjreupdateideb': 2, 'ready': 3, 'roll': 2, 'install': 786, 'headers': 2, 'everything': 22, 'else': 21, 'will': 167, 'work': 195, 'sort': 8, 'braindead': 2, 'modem': 4, 'requires': 14, 'needs': 19, 'netzero': 6, 'isp': 5, 'right': 62, 'stupid': 5, 'amazing': 3, 'yes': 83, 'but': 480, 'dialer': 2, 'script': 40, 'web': 63, 'hello': 30, 'please': 27, 'me': 241, 'an': 111, 'problem': 113, 'gameswwwpogocom': 1, 'for': 574, 'type': 107, 'sunjavaplugin': 180, 'terminal': 90, 'httpwwwjavacomendownloadinstalledjspdetectjreandtry': 4, 'check': 33, 'works': 50, 'when': 164, 'verify': 12, 'version': 225, 'said': 48, 'verifying': 2, 'open': 74, 'whatitsaidjavaversion': 2, 'ln': 28, 'usrlibjvmjavasunjreplugininslibjavapluginojiso': 10, 'usrlibfirefoxplugins': 3, 'im': 193, 'back': 16, 'still': 127, 'found': 58, 'working': 99, 'lets': 3, 'reinstall': 25, 'remove': 49, 'sunjavajre': 189, 'just': 273, 'purge': 19, 'issue': 35, 'trying': 84, 'asureus': 1, 'from': 254, 'external': 4, 'source': 24, 'might': 43, 'want': 130, 'synaptic': 79, 'first': 47, 'eliminate': 1, 'errors': 13, 'yep': 6, 'reinstalling': 8, 'beyond': 2, 'sorry': 36, 'someone': 48, 'figure': 14, 'out': 76, 'had': 58, 'getting': 27, 'last': 13, 'night': 2, 'come': 21, 'think': 115, 'used': 39, 'command': 122, 'before': 18, 'switch': 17, 'between': 8, 'several': 7, 'plugins': 42, 'cant': 52, 'life': 1, 'find': 128, 'again': 34, 'javadebs': 22, 'gives': 21, 'quicker': 1, 'access': 13, 'hey': 31, 'having': 32, 'trouble': 10, '\\ufeff': 2, 'whataboutthetroubleswithjava': 2, 'read': 23, 'around': 22, 'wwwsuncom': 2, 'about': 108, 'installing': 106, 'runtime': 72, 'httpjavasuncomjsedownloadhtml': 2, 'difference': 5, 'develop': 5, 'one': 165, 'rewind': 2, 'better': 30, 'httpjavacomendownloadlinuxmanualjsplocaleenandhostjavacom': 2, 'solve': 9, 'haveyouinstalledjava': 1, 'javainstalled': 2, 'sunjava': 86, 'repositories': 25, 'anymore': 10, 'sure': 79, 'smeg': 1, 'sun': 282, 'javapackages': 2, 'afaik': 5, 'other': 62, 'packages': 78, 'unless': 16, 'gnu': 14, 'compiler': 16, 'something': 80, 'this': 273, 'very': 11, 'confusing': 3, 'dont': 68, 'understand': 15, 'javahome': 38, 'be': 209, 'set': 76, 'all': 138, 'uninstalled': 8, 'compiling': 2, 'projects': 5, 'glassfish': 6, 'removed': 18, 'hoping': 2, 'wont': 14, 'complain': 3, 'new': 29, 'versions': 27, 'always': 12, 'complains': 3, 'normal': 13, 'user': 16, 'sourced': 2, 'etcenvironment': 6, 'does': 237, 'seem': 19, 'variable': 10, 'somewhere': 9, 'pretty': 25, 'anywhere': 5, 'echo': 17, 'rebooted': 6, 'since': 16, 'removing': 18, 'by': 82, 'way': 65, 'lines': 5, 'setting': 7, 'itreadsjavahomefromasjavawhichseemstobeanenvvariablethisisalreadysettousrlibjvmjavasun': 2, 'thempcodecsflashjavapluginchromium': 1, 'need': 261, 'unable': 8, 'play': 29, 'yahoo': 8, 'games': 18, 'flashplayer': 3, 'player': 20, 'because': 50, 'view': 11, 'youtube': 14, 'movies': 2, 'few': 18, 'issues': 16, 'software': 28, 'such': 31, 'skype': 4, 'even': 31, 'though': 33, 'latter': 1, 'should': 180, 'fixed': 4, 'karmic': 1, 'thought': 18, 'would': 94, 'itself': 8, 'comes': 17, 'biti': 2, 'talking': 16, 'make': 73, 'javajre': 4, 'javajakecanyouhelpplease': 1, 'javajake': 17, 'usb': 4, 'mouse': 2, 'option': 16, 'protocol': 2, 'xorgconf': 2, 'tell': 47, 'value': 2, 'has': 94, 'ps': 9, 'javajakewith': 2, 'searched': 10, 'alredy': 2, 'nothing': 48, 'javajakei': 2, 'ownive': 2, 'seen': 12, 'able': 32, 'came': 16, 'here': 65, 'second': 7, 'javajakeifiwnattofindoutifacertaindevicedevblahexistshowdoidoimeanifitisbeeingusedbysomeoneorsomething': 2, 'tells': 18, 'either': 22, 'turned': 4, 'company': 2, 'enabled': 25, 'box': 16, 'checked': 14, 'ls': 19, 'grep': 16, 'fact': 7, 'javascript': 75, 'ithinkitsjavaissuecanyouhelpmeinstalljavaneededforfirefoxhttpjavacomendownloadlinuxmanualjsplocaleenandhostjavacom': 2, 'breaks': 1, 'youthinkishouldfigureoutwhyjavadoesnotworkorwaitandseeifieverrunintoawebsitethatactuallyneedsitcossofaritisneveractuallybeenaproblem': 2, 'aboutplugins': 19, 'gcj': 15, 'most': 29, 'sites': 10, 'only': 84, 'correct': 25, 'alright': 11, 'dpkg': 42, 'forceall': 12, 'sunjavabin': 85, 'sunjavadoc': 3, 'wipe': 2, 'remnants': 2, 'repository': 29, 'we': 40, 'instead': 24, 'more': 45, 'official': 14, 'thankyousomuchthisiscrazyilovemylinuxbuthatethejava': 2, 'seems': 38, 'odd': 3, 'package': 221, 'jsdkdoc': 4, 'elsewhere': 2, 'worked': 28, 'actually': 29, 'repaired': 4, 'expect': 4, 'whatever': 15, 'within': 11, 'base': 4, 'been': 40, 'believe': 12, 'says': 83, 'didand': 2, 'playsays': 2, 'provide': 8, 'url': 15, 'where': 82, 'needed': 12, 'httpgamepogocomerrorjavaproblemjspsitepogop': 2, 'understandable': 2, 'hardest': 2, 'hold': 2, 'start': 48, 'address': 6, 'bar': 8, 'see': 124, 'listed': 15, 'page': 58, 'appears': 11, 'excuse': 2, 'ignorance': 2, 'scroll': 2, 'down': 11, 'heading': 2, 'named': 8, 'big': 8, 'letters': 2, 'hmm': 21, 'apparently': 4, 'half': 4, 'broken': 13, 'rm': 14, 'rf': 4, 'usrlibfirefoxlibjavapluginojiso': 2, 'corrupted': 2, 'rebooting': 2, 'didnt': 12, 'probably': 22, 'than': 50, 'fix': 26, 'archaic': 2, 'impossible': 2, 'already': 55, 'proper': 7, 'those': 30, 'date': 8, 'howdoidothatbtwerrorlogorgjivesoftwaredatabaseconnectionpoolinitconnectionpooljavafailedtocreatenewconnectionsonstartupattemptof': 2, 'stop': 5, 'reason': 18, 'showing': 2, 'path': 51, 'exsts': 1, 'wrong': 25, 'scripts': 8, 'aptitude': 51, 'whatdoyougetwhenyoutypewhichjava': 2, 'usrbinjavac': 15, 'exists': 12, 'weird': 10, 'both': 32, 'javac': 90, 'arent': 2, 'commands': 17, 'usrbinjava': 24, 'etcalternativesjava': 5, 'program': 38, 'anything': 28, 'man': 6, 'means': 22, 'binaries': 3, 'youhavebothjavaandjava': 2, 'javaandjava': 2, 'linked': 12, 'obviously': 4, 'link': 47, 'busted': 3, 'which': 174, 'cannot': 81, 'updatealternatives': 128, 'tool': 9, 'makesbreaks': 2, 'links': 9, 'iveremovedjavafor': 2, 'usrlibjvmjavasun': 6, 'netbeans': 15, 'export': 24, 'jdkhomeusrlibjvmjavatab': 2, 'post': 5, 'compile': 26, 'once': 19, 'everywhere': 3, 'xd': 1, 'frostwire': 19, 'everytime': 5, 'click': 22, 'icon': 1, 'happens': 12, 'kind': 13, 'cli': 4, 'howto': 4, 'line': 32, 'aka': 1, 'restrictedformats': 2, 'enabling': 1, 'javampa': 1, 'whole': 6, 'bunch': 3, 'things': 34, 'azureus': 46, 'sorts': 4, 'exceptions': 2, 'thrown': 1, 'refer': 1, 'usrliblibgcjso': 1, 'crashing': 10, 'jvm': 26, 'sudoupdatejavaalternativesjava': 2, 'specifically': 7, 'apache': 6, 'search': 69, 'finds': 5, 'none': 5, 'them': 30, 'far': 20, 'quicksearch': 2, 'javapackage': 75, 'hi': 50, 'openjdkjre': 9, 'successfully': 3, 'openjdkjrei': 1, 'gave': 8, 'reinstalled': 13, 'they': 36, 'show': 17, 'enter': 5, 'into': 38, 'wiki': 19, 'guys': 22, 'messing': 2, 'programming': 17, 'class': 20, 'openjdk': 39, 'differ': 1, 'greatly': 1, 'oraclesuns': 1, 'add': 26, 'partner': 18, 'instructions': 19, 'ubottus': 2, 'give': 34, 'getdeleteswitch': 2, 'move': 5, 'mean': 40, 'added': 19, 'relevant': 3, 'etc': 33, 'riight': 2, 'gets': 3, 'center': 2, 'stuff': 48, 'okay': 22, 'jdk': 53, 'flip': 2, 'additional': 6, 'switchs': 2, 'environment': 44, 'available': 39, 'order': 9, 'amd': 13, 'download': 60, 'repos': 39, 'doubt': 4, 'doesnt': 24, 'latest': 25, 'error': 69, 'httppastebincom': 1, 'config': 113, 'follow': 13, 'libswtgtkjava': 6, 'related': 11, 'meant': 8, 'jll': 4, 'ure': 2, 'contains': 5, 'free': 11, 'different': 45, 'result': 7, 'same': 57, 'zykotick': 2, 'put': 26, 'lot': 22, 'code': 28, 'assist': 5, 'adding': 3, 'repo': 18, 'javacom': 18, 'development': 17, 'years': 8, 'ago': 12, 'however': 26, 'never': 21, 'workstation': 2, 'laptop': 4, 'nurturing': 1, 'update': 44, 'relatively': 1, 'separately': 1, 'method': 8, 'optimal': 5, 'httpwwwubuntulinuxorgwikijava': 7, 'aware': 3, 'windows': 37, 'jar': 87, 'ignores': 1, 'classpath': 6, 'javaclasspath': 1, 'property': 1, 'ways': 5, 'without': 29, 'complex': 2, 'tons': 4, 'random': 2, 'turn': 3, 'may': 44, 'advised': 2, 'b': 10, 'g': 1, 'javas': 16, 'p': 27, 'e': 31, 'somebody': 5, 'until': 6, 'pls': 5, 'whats': 8, 'helloihaveaproblemwithjavaihavethemozillaplugininstalledfromthereposandthesunjavawebstartandthesunjavapluginandthesunjavaruntimeenviromentandistillcannotplaygamesatyahooanditgivesmethiserrormessagethisgamecannotbeplayedusingyourcurrentsettings': 1, 'enviroment': 6, 'streamtuner': 4, 'radio': 1, 'station': 1, 'failed': 15, 'execute': 10, 'child': 3, 'process': 10, 'audacious': 9, 'tryied': 1, 'reloading': 1, 'looks': 12, 'like': 135, 'also': 69, 'driven': 1, 'website': 27, 'reach': 1, 'sound': 14, 'yesterday': 4, 'while': 11, 'happed': 1, 'mp': 3, 'playing': 14, 'its': 133, 'softwareits': 3, 'hardware': 5, 'audio': 4, 'cable': 3, 'fell': 3, 'streamer': 6, 'match': 4, 'must': 15, 'upgraded': 8, 'broke': 5, 'earlier': 2, 'icedtea': 22, 'plug': 4, 'openoffice': 10, 'javaldx': 2, 'could': 90, 'files': 31, 'following': 6, 'suto': 2, 'openofficeorgjavacommon': 6, 'let': 27, 'browsers': 10, 'opera': 9, 'dapper': 4, 'pick': 9, 'javagcjcompat': 4, 'applets': 32, 'doubleclicked': 3, 'message': 17, 'dependency': 15, 'satisfiable': 7, 'javaruntime': 6, 'frostwiredeb': 2, 'downgrade': 3, 'packag': 2, 'restricted': 8, 'useful': 4, 'modules': 4, '\\ufeffthere': 2, 'many': 16, 'manager': 19, 'javacommon': 32, 'yah': 2, 'properlu': 2, 'left': 3, 'stuffi': 2, 'easily': 8, 'today': 4, 'shouldnt': 3, 'caused': 4, 'quit': 2, 'dependencies': 4, 'amnotsuremaybeaptgetinstalljavacommon': 2, 'drive': 3, 'taxi': 1, 'fakeroot': 4, 'makejpkg': 9, 'binfile': 1, 'root': 10, 'unfortunately': 1, 'distributions': 2, 'programs': 23, 'newer': 4, 'dpkgreconfigure': 6, 'told': 9, 'pasted': 3, 'thing': 42, 'forget': 1, 'under': 28, 'preferences': 6, 'options': 11, 'choose': 25, 'plus': 5, 'eclipse': 53, 'ship': 1, 'classpaths': 1, 'another': 32, 'messed': 4, 'whereis': 7, 'icedteagcjwebplugin': 5, 'icedteajavaplugin': 8, 'requiring': 6, 'list': 47, 'usual': 3, 'eo': 1, 'c': 33, 'zgrep': 1, 'taking': 8, 'mb': 2, 'ram': 8, 'andjavadoesnotsucknaliothistalkingnonsense': 2, 'sucks': 6, 'imho': 2, 'sureitmaywellbethatitiseatingramitisnotjavasfaultthough': 2, 'referred': 9, 'sourceslist': 12, 'httpubuntupastebinca': 2, 'ashishashdesktop': 4, 'sudoupdatealternativesconfigjava': 5, 'basically': 7, 'multiple': 11, 'default': 46, 'rather': 10, 'cansomebodyhelpmetoinstalljavavmforfirefox': 1, 'usrjava': 28, 'libjavapluginojiso': 22, 'firefoxplugins': 5, 'idoitjavapluginsareloaded': 2, 'done': 24, 'perhapsstartoutwithjavaitisbettertolearnoopfirstanywaysimo': 1, 'gonna': 11, 'finally': 4, 'debian': 17, 'hoaryextra': 2, 'hoarybackports': 2, 'afair': 2, 'anyway': 16, 'prob': 4, 'rid': 7, 'somejar': 2, 'runs': 20, 'remoev': 2, 'return': 15, 'going': 26, 'symlinks': 2, 'apllication': 2, 'pathtobinjava': 2, 'enable': 46, 'marked': 1, 'er': 2, 'lol': 25, 'near': 2, 'dead': 4, 'aptcache': 26, 'soemone': 1, 'aps': 6, 'online': 13, 'bin': 44, 'through': 26, 'correctly': 12, 'httpjavafreenodenet': 1, 'channel': 24, 'gui': 11, 'toolkit': 3, 'uses': 28, 'popular': 2, 'toolkits': 2, 'each': 6, 'platform': 7, 'anybody': 12, 'wasnt': 4, 'locate': 26, 'manually': 19, 'due': 12, 'missing': 20, 'arch': 2, 'pc': 9, 'shut': 2, 'somehow': 5, 'giving': 5, 'asks': 2, 'sends': 2, 'good': 41, 'suse': 2, 'ubuntui': 2, 'after': 55, 'firefoxjavapluginso': 5, 'provides': 8, 'javapluginso': 2, 'configure': 14, 'location': 5, 'installation': 35, 'javasdk': 3, 'roland': 2, 'mobisheep': 2, 'usrlibjvmjavasomething': 2, 'wasitunderusrlibjvmjava': 2, 'multiverse': 30, 'uncommenting': 1, 'reopened': 1, 'filter': 3, 'deals': 2, 'console': 22, 'sunjavafonts': 8, 'pastebin': 10, 'policy': 15, 'btw': 4, 'third': 3, 'part': 11, 'deb': 40, 'dpgkreconfigure': 1, 'name': 26, 'thingy': 6, 'usrlibjava': 9, 'bash': 10, 'cd': 17, 'directory': 40, 'javasomething': 2, 'full': 5, 'oath': 2, 'nope': 12, 'javabin': 10, 'usrlibjavajavaxx': 2, 'loaded': 3, 'pluging': 1, 'posoble': 1, 'non': 4, 'stoped': 2, 'err': 4, 'ide': 15, 'plain': 3, 'jsp': 6, 'object': 3, 'oriented': 3, 'php': 10, 'dirty': 3, 'abominiationcombination': 1, 'perlc': 1, 'syntax': 7, 'less': 8, 'features': 3, 'javabeans': 2, 'too': 35, 'compatible': 8, 'rulz': 2, 'lazy': 3, 'python': 11, 'support': 28, 'question': 20, 'corollary': 2, 'hardy': 8, 'aherron': 2, 'released': 2, 'glaring': 4, 'bugs': 6, 'qualifier': 2, 'elaborate': 3, 'desire': 2, 'allow': 4, 'ecjbootstrapgcj': 1, 'bootstrap': 1, 'native': 7, 'eclipsesdk': 2, 'extensible': 2, 'nspuginwrapper': 1, 'alpha': 1, 'guess': 20, 'miss': 1, 'mplayer': 3, 'wcodecs': 1, 'sudoaptgetinstallsunjavajre': 2, 'idontknowforsurebutyoumightneedtoinstallsunjavabim': 2, 'iveheardjavaandberylhateeachother': 2, 'haveyoutriedjava': 2, 'thereisasunjavajreaswellandidontknowcuzworkedfineforme': 2, 'sorrydudemaybesomeoneelseinhereisajavaxpert': 2, 'thereisajavapluginaswellbutiwouldguessthatsfortheweb': 2, 'crap': 10, 'gij': 7, 'youshouldbeabletoreinstalljustjavaafterno': 2, 'ive': 69, 'success': 1, 'thru': 1, 'u': 45, 'packetmanager': 5, 'dl': 7, 'required': 9, 'activex': 7, 'maybe': 38, 'packet': 4, 'howdourunthetightvncjavaapplet': 1, 'servers': 3, 'entry': 7, 'anyone': 95, 'knows': 8, 'automatically': 9, 'alternatives': 9, 'alsoafteryouinstallitrunjavaversionandseeifitoutputs': 2, 'lib': 6, 'javaopenjdkamd': 4, 'symlink': 11, 'select': 26, 'heimdall': 1, 'javavm': 7, 'literally': 1, 'andand': 18, 'sudoaptgetinstallsunjavajdk': 2, 'remover': 2, 'yeah': 32, 'complete': 10, 'befire': 2, 'along': 7, 'stated': 2, 'being': 13, 'suggest': 6, 'create': 20, 'forces': 1, 'project': 5, 'o': 2, 'okstartitwithjavaclasspathpathtofilejarmyprogam': 2, 'javaclasspathfoobarjarnameofclassfiletostart': 2, 'httparchivecanonicalcompoolpartnerssunjava': 1, 'hinted': 1, 'httpshelpubuntucomcommunityjava': 18, 'midlets': 2, 'servlets': 4, 'stay': 4, 'future': 4, 'webbrowser': 4, 'place': 14, 'great': 13, 'funny': 4, 'pathetic': 1, 'ppc': 6, 'started': 7, 'hours': 3, 'later': 4, 'loading': 3, 'avoid': 3, 'apps': 25, 'avoided': 2, 'updated': 13, 'requis': 1, 'pour': 7, 'la': 3, 'connexion': 3, 'live': 11, 'nécessite': 2, 'ce': 2, 'navigateur': 4, 'ne': 2, 'prend': 2, 'pas': 2, 'en': 4, 'charge': 2, 'ou': 6, 'les': 4, 'sont': 2, 'bloqués': 2, 'déterminer': 2, 'si': 2, 'votre': 2, 'est': 2, 'autoriser': 2, 'reportezvous': 2, 'à': 2, 'son': 2, 'aide': 2, 'ligne': 2, 'limewire': 18, 'oo': 2, 'aptgetinstallsunjavabin': 1, 'aptgetinstallsunjavajre': 3, 'blackdown': 23, 'libdvdcss': 1, 'httpwwwjavacomendownloadhelptestvmxml': 10, 'httpwwwmacromediacomshockwavewelcome': 1, 'wierd': 4, 'dancer': 2, 'macromedia': 2, 'top': 11, 'shockwave': 7, 'bottom': 4, 'say': 42, 'upper': 2, 'corner': 2, 'paste': 11, 'flood': 5, 'np': 2, 'unfortunatelyitwantstoupgradejavabeforeiuninstallwhichcountsasalargedownload': 1, 'definition': 2, 'define': 1, 'reasonable': 2, 'supposed': 5, 'imtryingtoinstalljavaandforsomereasonjavaversioncomesoutasbutjavacversioncomesoutas': 2, 'people': 19, 'whatdoyoumeanijusttypejavacversionintheterminalandtheoutputisjavacbuttheoutputofjavaversionis': 2, 'seven': 2, 'usrlocaljava': 2, 'alternates': 2, 'lrwxrwxrwx': 3, 'etcalternativesjavac': 2, 'cyan': 2, 'color': 2, 'sym': 5, 'join': 39, 'text': 10, 'typing': 3, 'typejoin': 2, 'morticijoinjava': 2, 'bet': 6, 'buffalo': 1, 'nickel': 1, 'youd': 2, 'ont': 4, 'special': 5, 'easy': 21, 'hoop': 2, 'jumping': 2, 'sunjavabikn': 2, 'intalled': 1, 'javajdk': 3, 'previous': 3, 'complile': 1, 'goes': 7, 'usrlibjvmjavasunbinjavac': 3, 'pathusrlibjvmjavasunbinjavacpath': 2, 'youmeanexportpathusrlibjvmjavasunbinpathiewithoutthejavacright': 2, 'mistake': 5, 'editing': 3, 'unexport': 2, 'function': 2, 'clue': 4, 'causing': 5, 'assume': 8, 'somebodyhasanyideahowtouseanotherjavapluginthanicedteawithffonhardy': 1, 'ibm': 8, 'precise': 4, 'fine': 46, 'tune': 3, 'xulrunnerjavapluginso': 2, 'howcaniopenjavaapps': 1, 'discuss': 1, 'javajarnameofjarfile': 1, 'mobile': 2, 'were': 19, 'emulators': 2, 'mmnotsurethenisthisaparticularapplicationyouhavethatisinjava': 2, 'wellunlesssomeonetherecanhelpthereisnotmuchicandohoweverwindowsorlinuxajavaappshouldrunofcoursebecausejavaisnotosspecifichoweveryourhandsetmayhaveanimplimentationofjavathatisrequred': 2, 'emulator': 2, 'wireless': 2, 'slow': 20, 'iseethenitshouldworkbutagainihavenoexperiencewiththisatallletsseeifthereisajavachannelholdon': 2, 'outofthebox': 1, 'faceboook': 1, 'arts': 1, 'somghin': 1, 'made': 14, 'yourself': 2, 'hoary': 9, 'gnome': 5, 'remote': 6, 'desktop': 14, 'vino': 9, 'viewer': 10, 'tightvncviewer': 1, 'xvnc': 1, 'perhaps': 10, 'vinoxvnc': 1, 'trickhackaround': 1, 'mac': 4, 'users': 9, 'vncviewer': 2, 'usually': 6, 'point': 10, 'port': 3, 'ip': 4, 'tighvnc': 3, 'tightvnc': 4, 'saying': 16, 'embeds': 2, 'html': 9, 'spyware': 1, 'ff': 16, 'extensions': 5, 'written': 6, 'universal': 4, 'runescape': 5, 'pro': 3, 'hah': 2, 'best': 26, 'goooogling': 2, 'morning': 2, 'helps': 5, 'httpwwwubuntubuzzcomsunjavanowcanbeinstalledonhtml': 2, 'uninstall': 12, 'change': 13, 'commandline': 3, 'ubuntuhelp': 2, 'current': 7, 'keeps': 9, 'two': 14, 'important': 8, 'stands': 2, 'above': 6, 'oraclesun': 2, 'noscript': 2, 'disabled': 8, 'wantneed': 1, 'gb': 7, 'cheap': 1, 'buy': 1, 'suffices': 1, 'tasks': 1, 'involving': 2, 'traditionally': 1, 'memory': 7, 'hungry': 1, 'activity': 1, 'mainly': 5, 'ihaveaskedabouthowtoinstalljavaruntimeenvironmentorfirefox': 1, 'javaruntimeenvironmentisrestrictedformat': 2, 'originally': 1, 'yours': 3, 'bytecode': 3, 'differently': 1, 'kill': 6, 'doing': 18, 'aux': 1, 'someidentifything': 1, 'appear': 12, 'mainfilename': 2, 'exception': 16, 'thread': 13, 'main': 23, 'javalangnoclassdeffounderror': 10, 'orgapacheavalonframeworkloggerlogger': 1, 'atorgapachefopappsfopmainfopjava': 2, 'javaselect': 1, 'extra': 7, 'respitories': 1, 'httpubuntuguideorg': 1, 'ahead': 3, 'installs': 9, 'offered': 1, 'javajustreleasedanupgrade': 2, 'testing': 2, 'updatejavaruntime': 2, 'synapticgotjavathere': 2, 'offer': 4, 'butyouneedanewruntimeforjavaanditjustupdatedmeinxpadayago': 2, 'thingee': 2, 'updates': 8, 'asked': 9, 'reload': 5, 'javarelated': 2, 'wellgetjavaruntimedonotjustletubuntuchoose': 2, 'sake': 2, 'expediency': 2, 'booted': 3, 'vista': 2, 'essentially': 2, 'unused': 2, 'sad': 6, 'yahjavajrewasinit': 2, 'trtied': 1, 'mecury': 1, 'messenger': 2, 'app': 29, 'guy': 1, 'forums': 6, 'suggesting': 1, 'crashes': 6, 'dancing': 5, 'logo': 7, 'eclipese': 1, 'hear': 1, 'happen': 3, 'browsing': 4, 'netbeansmljavaselinuxsh': 1, 'ubu': 1, 'paying': 1, 'attnetion': 1, 'moment': 2, 'puff': 1, 'iceroot': 1, 'answer': 11, 'booting': 1, 'network': 8, 'andthedesktopcdlacksjavatoo': 2, 'unplug': 3, 'ten': 5, 'boxes': 3, 'currently': 10, 'funky': 3, 'custom': 3, 'facilitized': 2, 'fedora': 2, 'secure': 4, 'facility': 2, 'together': 5, 'selfcontained': 2, 'resourceintensive': 2, 'javabased': 6, 'simulation': 2, 'besides': 5, 'javasuncom': 9, 'milarat': 2, 'him': 2, 'mirror': 4, 'gray': 2, 'square': 1, 'remember': 28, 'seeing': 6, 'year': 2, 'javaenabled': 2, 'frankly': 2, 'mostly': 5, 'hard': 10, 'javacrap': 2, 'pain': 15, 'ass': 3, 'atleast': 2, 'ithinkihaveinstalledthesunthingbuttheicedteathingmaybeisanissueconflictidonotknowterminalsaysihavesuninstalledjavaversion': 2, 'send': 11, 'rapidsharede': 4, 'ex': 4, 'mozilla': 21, 'idlovetohelpbutidonothaveubuntuorjavainstalledatm': 2, 'itlookslikeitwantsthesunversiopnofjavairecallthatissuefromagesbackalsowhatstheversionofjavayouareuseingjavaversion': 1, 'whatjavaareyouusingjavaversion': 2, 'spanish': 3, 'youmaywanttoinstallthejavafromsunthatsinthepartnersrepositoryidontthinkthatstheversioninfrofromthenormalsunjava': 2, 'ihavenoideaonthatversionsoicantsuggestmorethenlimewirewantsdemandsthesunjavanotthefreegplopensourcedjava': 2, 'roxor': 4, 'complaining': 3, 'spammer': 1, 'httpshelpubuntucomcommunityjavaubuntu': 2, 'httpwwwubuntugeekcomhowtoinstalljavaruntimeenvironmentjreinubuntuhtml': 3, 'google': 15, 'friend': 8, 'theonlypluginitneedsissunjavapluginaslongasyouknowyouhavejavainstalled': 2, 'configured': 8, 'depends': 9, 'wanna': 7, 'dependent': 2, 'tryusingthesunjavainsteadoftheicedteajavaperhaps': 1, 'factoid': 4, 'mentioned': 12, 'recall': 4, 'tips': 4, 'tricks': 1, 'easiest': 7, 'choice': 4, 'javad': 4, 'jogl': 2, 'd': 12, 'rpg': 2, 'enough': 9, 'httpscdssuncomisbinintershopenfinitywfscdscdsdevelopersiteenususdviewproductdetailstartproductrefjavadothjprcdscdsdeveloper': 2, 'v': 11, 'password': 2, 'pass': 4, 'incorrect': 2, 'capslock': 1, 'key': 3, 'wtf': 4, 'forefox': 1, 'icedteajavabin': 4, 'icedteajavajre': 2, 'thereisnoicedteajavabin': 2, 'httplaunchpadlibrarianneticedteajavabinebideb': 2, 'didyoufollowthejavainstallationhowtoonthewiki': 1, 'starter': 3, 'world': 8, 'typejavac': 2, 'gohereandfollowthejavasdkinstructions': 2, 'apt': 19, 'typo': 2, 'red': 1, 'comsole': 1, 'uninstalling': 2, 'accordingly': 2, 'minecraft': 29, 'ubotu': 17, 'chcken': 1, 'sum': 2, 'wikiubuntucomjava': 7, 'chat': 8, 'userjavajdkbinjavac': 1, 'hellojava': 1, 'outside': 2, 'whatstheoutputforwhichjavac': 2, 'yup': 2, 'usrlibjvmjavaopenjdkbinjavac': 5, 'helloworldjava': 2, 'included': 11, 'who': 16, 'cares': 1, 'oss': 2, 'troll': 1, 'care': 10, 'featured': 1, 'based': 20, 'browserr': 1, 'capable': 1, 'utilising': 1, 'images': 1, 'appearing': 1, 'prompt': 8, 'hidoesanyoneknowhowtoenablejavaonmozilla': 2, 'nstall': 2, 'javaversionretunrsjavaversion': 2, '«': 4, '»': 4, 'pleasease': 2, 'log': 6, 'ticked': 7, 'triedthattoojavabugz': 1, 'uactually': 2, 'his': 2, 'laptopfrom': 2, 'directly': 6, 'throug': 2, 'sorrry': 1, 'build': 17, 'aruzeus': 1, 'bothers': 1, 'precompiled': 2, 'went': 8, 'watched': 1, 'lcd': 1, 'sounds': 10, 'prom': 2, 'refers': 1, 'placed': 2, 'serverthe': 1, 'tring': 2, 'over': 14, 'wrote': 3, 'premade': 2, 'application': 28, 'modification': 4, 'acceptablepossible': 2, 'foundationstonesh': 1, 'javaopenjdk': 4, 'usrlibjvmjavaopenjdk': 7, 'usrlibjavasunjreplugininslibjavapluginojiso': 2, 'aqua': 2, 'shows': 11, 'insynapticlookforsunjavajre': 1, 'malformed': 2, 'etcaptsourceslist': 10, 'dist': 2, 'parse': 2, 'sources': 7, 'candidate': 6, 'sunjavaisnotinthedefaulreposanymoresowhatdidyoudowhatguidedidyoufollowtogetyoursourceslisttohavethatlineinit': 2, 'wasyou': 2, 'guides': 6, 'makes': 13, 'sence': 2, 'kinda': 4, 'lack': 3, 'opengl': 8, 'acceleration': 2, 'supports': 12, 'graphics': 7, 'card': 10, 'driver': 7, 'wow': 6, 'freecol': 2, 'hardcoded': 2, 'looking': 14, 'keytool': 5, 'javalangexception': 3, 'keystore': 4, 'exist': 14, 'pingpong': 3, 'hieveryoneivebeenreadingmanyarticlesonthedownsidesofbitlinuxintermsofpackageavailabilityandcompatibilityillbeusingmymachineformainlydevelopmentccjavaandothersmostofwhativereadisatleastayearoldidliketohearyouropinionswillibeabletodevelopprogramstorunonbitlinuxmachineseasilyusinganubuntubitinstallfromwhatigathericanrun': 1, 'httpwwwjavacomendownloadmanualjsp': 1, 'selfextracting': 1, 'devel': 1, 'usage': 3, 'eclipses': 2, 'older': 7, 'usrlibmozillafirefoxpluginslibjavapluginojiso': 8, 'usrlibjresunplugininsgcclibjavapluginojiso': 1, 'keep': 7, 'noclass': 2, 'deffound': 2, 'game': 19, 'common': 8, 'particularly': 2, 'details': 4, 'configuration': 9, 'youcouldknoweverythingintheuniverseaboutcomputersexceptjavaandhavenoideawhattodo': 2, 'little': 10, 'lots': 5, 'agree': 4, 'beta': 3, 'svg': 1, 'cairo': 1, 'platforms': 2, 'canvas': 3, 'making': 7, 'wwwjavacom': 10, 'areyousureyouarenotredirectingmetojava': 2, 'symlinked': 5, 'optjdkjreplugininslibjavapluginojiso': 2, 'ifyourunjavaversiondoesitsayjavaversion': 2, 'looked': 3, 'mark': 2, 'executable': 11, 'copy': 8, 'opt': 4, 'ididitbutmyjavaisstill': 2, 'visit': 5, 'prevent': 1, 'happening': 5, 'tryaptgetinstallsunjavaplugin': 2, 'andafterclosingallinstancesoffirefoxandrestartingthispagedoesnotworkhttpwwwjavacomendownloadhelptestvmxml': 2, 'usrjavajreplugininslibjavapluginojiso': 8, 'close': 15, 'killall': 4, 'firefoxbin': 2, 'closed': 5, 'optfirefoxfirefox': 2, 'javadeb': 9, 'bot': 3, 'sleep': 2, 'yourslef': 2, 'usrlibmozillafirefoxplugins': 4, 'icannotrunanjavaapplet': 1, 'itsokdoihavetoinstalljavapluginsthen': 2, 'butyouaresayingthatnonejavaappletscanruninlinux': 2, 'cyberlink': 1, 'samplecontrolpoint': 1, 'directions': 1, 'httpjavacomendownloadhelpxmlenable': 1, 'returns': 7, 'httppasteubuntunlorg': 6, 'updatedb': 8, 'readlink': 7, 'f': 6, 'readlinkfusrlibmozillafirefoxpluginslibjavapluginojiso': 2, 'homeskalpeldesktopjreplugininslibjavapluginojiso': 2, 'delete': 10, 'restart': 7, 'sloppy': 2, 'leave': 4, 'setup': 10, 'httpswikiubuntucomseveaspackages': 2, 'appeared': 2, 'menu': 3, 'thenhowshouldigoaboutinstallingjava': 1, 'heard': 4, 'ubunturestrictedextras': 13, 'freezing': 2, 'ones': 3, 'sudoaptgetinstallicedteajavajdk': 2, 'higuysthisiswhereihaveinstalledmyjavajdk': 1, 'ifyouinstalledjavarightjavashouldbeinpath': 2, 'installer': 8, 'errmimnotsurebutdoesthatpackagecontainthejavasdk': 2, 'errmwhathappenswhenyoudothisatacommandlinejavavorjavaversion': 2, 'javaalreadyexistsinyourpathasitexecutesthere': 2, 'executes': 4, 'eitherjsportomcatarenotconfiguredtoexecutethefiletheysimplyareaccessingjavacodeastextfiles': 2, 'triied': 2, 'dun': 2, 'meaning': 3, 'sentence': 2, 'neither': 2, 'nor': 5, 'jrehome': 4, 'defined': 2, 'trythiscommandjavahomeusrlibjsdksunshusrlocaltomcatbinstartupsh': 2, 'homemeisamjdk': 2, 'wha': 2, 'he': 19, 'eh': 6, 'deal': 3, 'fad': 7, 'm': 3, 'money': 2, 'forever': 2, 'oakmadethejavadiveriant': 2, 'rewrite': 2, 'lovely': 3, 'minix': 2, 'framework': 3, 'blackboard': 2, 'team': 5, 'cc': 4, 'query': 2, 'usrlibjvmjavasunjrebinjava': 19, 'tomcat': 13, 'guessing': 2, 'extras': 3, 'swf': 1, 'httpshelpubuntucomcommunityrestrictedformats': 1, 'andiwanttodothisfordrjavajarmyideforjavatowork': 1, 'firstofallihatepeopleaskingwhywouldyouwanttodothatsecondlyianswerediteventhoughitisirrelevanttomyoriginalquestioniwanttodoitbecausethatstheonlywaydrjavaseesthelibrarypathwhenstartedfromwithinmydesktop': 2, 'easier': 10, 'ldlibrarypath': 6, 'drjava': 2, 'verified': 2, 'dr': 2, 'whys': 1, 'explain': 3, 'schools': 2, 'cs': 2, 'department': 2, 'concept': 2, 'high': 3, 'level': 2, 'language': 22, 'coding': 3, 'corporations': 2, 'youareajavadeveloperyoushouldknow': 2, 'asking': 9, 'depnedency': 2, 'huh': 6, 'bittornadotorrentflux': 2, 'mess': 4, 'luck': 10, 'die': 1, 'during': 3, 'press': 1, 'abort': 1, 'sunjavaoricedtea': 2, 'unzip': 2, 'runlimesh': 2, 'systemadministrationsynaptic': 2, 'manger': 2, 'zip': 6, 'sigh': 3, 'save': 4, 'headaches': 2, 'sed': 2, 'debdebg': 2, 'sedgy': 2, 'universeedgy': 2, 'universe': 5, 'multiverseg': 2, 'ibackup': 2, 'ojacobson': 1, 'jayro': 1, 'therefore': 2, 'x': 21, 'ui': 2, 'shot': 4, 'dark': 2, 'break': 4, 'djavaawtheadlesstrue': 2, 'tedjar': 2, 'stack': 2, 'heh': 2, 'javaawtheadlessexception': 4, 'valuable': 2, 'string': 2, 'someguyinjavaissureitsbecauseidonothavexsetupinmyshell': 2, 'ted': 2, 'interesting': 6, 'known': 4, 'unstable': 1, 'gotten': 5, 'azureuss': 1, 'pull': 8, 'afterwards': 4, 'isnotintheconfigjavalist': 2, 'next': 12, 'realize': 1, 'dabaseconnection': 1, 'pool': 3, 'anyknowknowsaboutjavaconnectionpool': 2, 'youarehavingmeonineedjavatorunflash': 2, 'wanting': 7, 'oooohrightoitendtoavoidjavaatallcostsunlessitisneeded': 2, 'poll': 1, 'sayes': 3, 'ubntu': 3, 'updatealternative': 3, 'jarfilejar': 3, 'classname': 2, 'debsforjava': 1, 'understanding': 4, 'httpseveasubuntulinuxnl': 2, 'breezyseveas': 2, 'nad': 2, 'filedeb': 2, 'number': 5, 'addresses': 1, 'doihavetoinstallsunjavawebstarttousejavawithfirefox': 1, 'thenjavaappsyouencounterwhilebrowsingshouldworkanyonespecificyouarehavingtroublewith': 2, 'idonotseeanypluginforjavalistedinmhyaboutpluggineither': 2, 'picture': 4, 'httpwwwjavacomenimgdownloadtestvmlinuxjpg': 2, 'abithigheronthepageinanycasethissaysthatjavaisisntlledwhatelsedoyouwant': 2, 'thentryandinstallsunjavajreandthepluginspackagethatgoeswithit': 2, 'imeantsunjavajrenot': 2, 'mozillafirefox': 3, 'icorrectedmyselfyouprobablymissedititoldyoutoinstalljavaandthepluggin': 2, 'usethejavaititthelatestsunjavajreandtherelatedpluginpackagethatshouldbeitremovetheone': 2, 'instal': 3, 'malicious': 2, 'accessif': 1, 'omgubuntu': 2, 'ppa': 6, 'dloaded': 2, 'httpjavacomendownloadhelplinuxinstallxml': 2, 'frostwireaintworkinitsaysidonothavthevalidjrejavahowdoiinstallit': 1, 'except': 3, 'libre': 1, 'data': 1, 'guis': 1, 'swear': 1, 'twice': 3, 'cos': 2, 'launch': 5, 'types': 5, 'itsaysineedtoupgradetojavajre': 2, 'exactly': 9, 'usrlibjsebinjava': 2, 'blackdowns': 3, 'thisisthelastcommandsettingupjavapackage': 2, 'nice': 8, 'openofficeorg': 1, 'openofficeorgcore': 1, 'openofficeorgcommon': 1, 'wolsjavajakethanksforanythinginadvance': 1, 'jcdsee': 1, 'gthumb': 1, 'kview': 1, 'buttload': 1, 'em': 1, 'gksu': 1, 'openthinclientjar': 1, 'sdm': 1, 'interface': 7, 'dynamicsrealciscoimage': 2, 'perfectly': 4, 'stable': 3, 'edition': 10, 'alternative': 6, 'modify': 2, 'libdpkginfolibecjjavagcjpostrm': 1, 'risky': 5, 'hand': 1, 'chose': 5, 'render': 2, 'unusable': 2, 'simple': 8, 'comment': 6, 'hash': 2, 'sign': 4, 'beginning': 2, 'edit': 12, 'empty': 4, 'iname': 2, 'libecjjavagcj': 2, 'devnull': 2, 'hashes': 2, 'usrbinrebuildgcjdb': 2, 'libecjjavagcjpostrm': 2, 'deleted': 2, 'postrm': 2, 'gcjdb': 2, 'reinstallation': 2, 'dose': 4, 'normally': 5, 'prog': 3, 'j': 5, 'javayouneedtobeidentifiedtojointhatchannel': 2, 'navigate': 2, 'wherever': 2, 'completly': 2, 'hasanyonewentthroughtheprocessofinstallingjavaonfirefox': 1, 'debs': 16, 'active': 2, 'profile': 2, 'howtosetjavapathtoworkintognomedesktop': 2, 'vanilla': 1, 'breezy': 14, 'universemultiverse': 3, 'containing': 4, 'flashjavareal': 2, 'every': 14, 'single': 4, 'release': 3, 'ubunturestictedextas': 2, 'httpbugsdebianorgcgibinbugreportcgibug': 1, 'mentions': 2, 'djavanetpreferipvstacktrue': 1, 'service': 4, 'forgot': 4, 'ah': 7, 'suggestions': 6, 'clean': 6, 'isthereanythingleftfromjava': 2, 'howdidyouactuallyinstalljava': 2, 'similar': 5, 'umm': 2, 'aptgetorg': 3, 'youdownloadajavarunfromsunandrunmakejpkgonitanditgivesyouadeb': 2, 'ohnevercaredmakeajavapackagemyself': 2, 'javajakeyougotalltheacpistuffenableinkernelandbios': 1, 'aplets': 3, 'somethign': 2, 'beans': 6, 'reference': 5, 'book': 9, 'todays': 5, 'irc': 10, 'typed': 9, 'sir': 3, 'joined': 2, 'tab': 6, 'coming': 2, 'room': 5, 'httpwwwjavacomendownloadlinuxmanualjsp': 3, 'downloads': 2, 'jave': 3, 'jrebin': 3, 'mv': 13, 'filename': 3, 'jrelinuxibin': 2, 'desktopjre': 2, 'realizeing': 2, 'destination': 2, 'operand': 2, 'homebdesktopjrelinuxi': 2, 'binusrjava': 2, 'usr': 2, 'anyoneabletohelpmeinstalljava': 1, 'httpjavacomdedownloadinstalledjspdetectjreandtry': 2, 'anyideahowicanmakesurejavaisinstalled': 2, 'httpwwwjavatesterorgversionhtml': 2, 'doihavetorebootpcbeforeplayingjavagamesafterinstallofjava': 2, 'wherecanifindgoodinfoabouthowtoinstallthelatestjavaver': 2, 'needsunsjavaunoperateurthepointisitjava': 2, 'youneedjava': 2, 'writing': 4, 'sothelatestjavaintherepois': 2, 'indeedtheinstallationiseasyusingthebinfilebutasisaidicantfigureoutlateronhowtoconfigurethepathsothatappswillrecognisewherejavaisanduseit': 2, 'us': 12, 'optjavabin': 2, 'env': 5, 'classpathclasspathoptjavabin': 2, 'minecraftjar': 5, 'affect': 3, 'hitthesearchbuttonandtypeinsunjava': 2, 'sokitsformycollegewearebeingtaughthowtoprograminjavaandtheyaretwoprogramsusedtolearnsuchgooglethem': 2, 'editor': 4, 'window': 9, 'sunjdk': 4, 'ie': 5, 'javasunjre': 2, 'httpshelpubuntucomcommunityjavaheaddfadbadccacdbdaab': 4, 'youinstalledsunjavapluginor': 2, 'totally': 4, 'followed': 8, 'httpwwwjavacomendownloadhelpxmlselfextracting': 2, 'suggests': 2, 'packaged': 4, 'include': 4, 'backports': 10, 'thinks': 4, 'pluginregdat': 1, 'switching': 3, 'struggling': 1, 'variables': 3, 'ssh': 1, 'remotely': 1, 'httpopenjdkjavanetinstall': 2, 'supposted': 2, 'javaversionwhatdidyouget': 2, 'javaversiondoesthatreturnyoutheversionyouinstalled': 2, 'plsletstakeitfromstepfirstyouinstalledjavahowwhichjava': 2, 'paython': 1, 'android': 8, 'aim': 2, 'isi': 2, 'given': 8, 'languageso': 2, 'wanted': 6, 'preffered': 2, 'ubuntuso': 2, 'yajavascript': 2, 'servlet': 7, 'startign': 2, 'reccomend': 4, 'although': 4, 'meh': 2, 'initially': 1, 'priv': 3, 'messaged': 2, 'howdoiinstalljavapackagealldeb': 2, 'javapackagealldeb': 2, 'greate': 1, 'experimented': 2, 'howdidyouinstalljavaandwhichoneandofcourseitcouldbeaproblem': 2, 'binary': 16, 'strange': 6, 'fast': 5, 'fist': 2, 'super': 2, 'javagcj': 10, 'offical': 2, 'trust': 2, 'executing': 2, 'recommend': 11, 'host': 2, 'diagnosing': 2, 'starting': 8, 'afresh': 2, 'dubble': 3, 'sunjavajrealldeb': 4, 'archive': 5, 'supported': 2, 'ifyoufollowthejavainstructionthenjavawouldbeinstalledandrunningonyourbox': 2, 'thenitisnotworkingdidyouissuethecommandsudoaptitudeinstallsunjavaplugin': 2, 'feature': 3, 'displayed': 2, 'below': 3, 'gcjplugin': 2, 'among': 2, 'developers': 3, 'globally': 2, 'learning': 5, 'lisp': 2, 'perspective': 2, 'allowed': 3, 'distribut': 1, 'ice': 2, 'rc': 2, 'iceape': 1, 'yougotjavainstalled': 1, 'hifolksyesterdayiinstalledxubuntuplayedaroundandinstalledxmmskbetcwithouthelphavealsomadefirefoxtoplayflashthingsbutstillgotonemorethingtodojavahavegoogledaroundandtrieddifferentthingstogetthisworkingbutnohaveanyoneideawhattodo': 1, 'readfollowthejavafactoidiguess': 2, 'hmmmnoluckontheinstrucionsyougavemelasttimeyearagoialsohadproblemswithjavabutdonotrememberhow': 2, 'itsalwaysbeenasimpleaptgetinstallwhateverformeicantevenremberthelasttimeihadtoworryaboutjava': 2, 'youmaywanttoseewhatjavaversionorjavaversionsaysanditmaybeabrowserissue': 2, 'lookslikeyougotajavainstalledwhatsnotworkingwithit': 2, 'bank': 4, 'seemstohavesameissuehereandidohavejavaworkingonothersites': 2, 'okcauseithinkthatthewebsiteisentyouneedsthelatestjavathingidonotknowbutonmyotherwindowscomputeritisworkingfine': 2, 'thatspossibletheresseveralversionsvariationsofjavaoutforlinux': 2, 'youmaywanttocheckandinstalloneofthefollowingsunjavapackagestheofficalsunjavas': 2, 'hmmoktriedthejavatestonthejavapageanditworkedfinebutitsaidthatihadanolderversioncantryyouradvise': 2, 'iinstalledthesunjreandpluginandransudosudoupdatealternativesconfigjavasoiamnowusingadifferntjavabutilostthatbankurl': 2, 'wants': 4, 'httpwwwgiannarosorgpublicbreezydebs': 2, 'these': 8, 'filenamedeb': 2, 'exe': 3, 'httppastebincomvqxins': 1, 'maverick': 2, 'webapp': 1, 'expert': 3, 'doyhouhaveicedteaorsunjavainstalled': 2, 'notforjavaapplicationsno': 2, 'oknowhitsearchandtypeinsunjavaandinstallthesunjavapluginanditwillpullldowntheneededstuffbutdontinstallyet': 2, 'aftertickingsunjavapluginhitsearchagainandtypeinicedteaandrightclickallofthepackageslistedthereforcompleteremoval': 2, 'clock': 2, 'flight': 2, 'planning': 2, 'father': 2, 'usrlibjvmjavagcjbinjava': 2, 'ask': 10, 'questions': 1, 'whatareyoutryingtodototestthiscompileajavafilerunajavaprogram': 1, 'least': 10, 'session': 2, 'whenyouinstalledthesableversionofjavadidyoudoaaptgetinstallordidyoudownloadafileanddoadpkgi': 2, 'freejavasdk': 4, 'sunjavainstallitfromtheapplicationsaddremovemenuorinstallthesunjavabinpackage': 1, 'didyoureadthenotescrolldowntoselectingthedefaultjavaversionsectiontoenablethejreyouhaveinstalledline': 2, 'usrlibjvmjavasunjrebinjavaa': 2, 'returnthisusingusrlibjvmjavasunjrebinjavatoprovidejava': 2, 'anyother': 2, 'adept': 4, 'whatisicedteajavaplugin': 2, 'tryrunningupdatealternativesconfigjava': 2, 'major': 2, 'security': 8, 'vulnerabilities': 2, 'whenever': 3, 'chrome': 10, 'nonjava': 5, 'proggys': 2, 'yeahjustlookingatthelinkforjavadebimnotfindingthepackagesthatsall': 1, 'sspiffihavebothsunjavaandblackdownjava': 2, 'thinking': 4, 'learn': 7, 'doesjavaworkonothersites': 1, 'facebookusesjavathoughtitwasflash': 2, 'httpwwwjavacomendownloadtestjavajsp': 4, 'javapos': 2, 'pos': 1, 'heck': 2, 'alice': 2, 'sadly': 6, 'ever': 4, 'sometimes': 8, 'resort': 1, 'javaws': 11, 'advanced': 4, 'assuming': 6, 'httpwwwubuntugeekcomsunjavapackagesgotnewppanewforubuntuhtml': 2, 'httppastebincomsdqgagyp': 2, 'wondering': 5, 'javajdkjdk': 2, 'ant': 2, 'thuoght': 2, 'sry': 2, 'compiled': 6, 'openjdkjdk': 6, 'errorssuccess': 2, 'webstart': 7, 'standalone': 2, 'kgs': 1, 'cause': 7, 'evaded': 2, 'bitjavaaytheyhavelonglongs': 2, 'hrm': 2, 'primitive': 2, 'fortran': 2, 'icannotfindjava': 1, 'triedaptcachesearchjavascript': 1, 'wonder': 6, 'nonsun': 1, 'yikes': 2, 'recent': 2, 'changed': 10, 'settings': 6, 'javaalternatives': 2, 'brb': 3, 'ekid': 2, 'exactlyihaveitinstalledbutwhenisetupdatejavaalternativestojavasunjavawillnotrun': 2, 'yeahyoucantrythatifnotyoucouldalsousesunjavaidonotthinkeuroparequiresjava': 2, 'httpmacusercomjavajavahtml': 2, 'wokring': 2, 'whateverjavacamewith': 2, 'section': 5, 'wellcould': 2, 'libjava': 2, 'usrlocaljreplugininsgcclibjavapluginojiso': 2, 'pathjavahomebinpath': 1, 'youaretryingtosetyoursystemtousesunjavaandnotgcj': 2, 'route': 4, 'maintain': 5, 'greetings': 1, 'sunjre': 4, 'longer': 2, 'souceslist': 1, 'connected': 3, 'tightvnvserver': 1, 'usrlibmozillafirefoxpluginsjava': 2, 'rip': 1, 'microsoft': 1, 'paied': 1, 'billion': 1, 'hlep': 1, 'thatsaitethoaslongasicandojavacimhappytryingtogradeprojectsissohardwitheclipse': 2, 'diffirent': 1, 'thatlinkdonthelpmywebbankneedsjavaandmosthomepagesivisituseitbutforsomeprogramsicameacrosstheyfunctionbetterwithjavasohowdoiexecutethejarfileinterminalwithjavainsteadofthedefaultjava': 2, 'byusingthejavabinarytoexecuteitwhichcanbenamedanythingxmagixxandifyourbankneedstouseaspecificjavathentheyarenotstandardwebsitesincenotmuchhasreallychangedbetweenand': 2, 'bigger': 2, 'aint': 4, 'buildt': 2, 'useing': 5, 'bt': 2, 'soo': 2, 'exactlyhenceforthequistionhowdoiopenajarinanotherversionjavathendefault': 2, 'soojavajarnameoffilejar': 2, 'hunt': 2, 'lsgrep': 2, 'isent': 5, 'javadoc': 3, 'javah': 2, 'javap': 2, 'ofc': 2, 'properties': 2, 'located': 5, 'hardlinks': 2, 'writes': 2, 'lastest': 2, 'heavly': 1, 'applications': 24, 'disabling': 3, 'compiz': 10, 'refreshing': 2, 'module': 2, 'directories': 4, 'certain': 4, 'xfce': 2, 'disable': 8, 'usrjavadoesnotexistyoumeanusrlibjvm': 2, 'solid': 3, 'block': 3, 'silmarjar': 1, 'past': 4, 'zeroing': 1, 'erroneously': 1, 'correlates': 1, 'hope': 4, 'remained': 2, 'tree': 4, 'azerous': 1, 'facebook': 7, 'upload': 4, 'itll': 4, 'peopleusedtocomplainofflashjavawineandsoforth': 1, 'ifyouhavesunjavainstalledyoumaywanttoremoveiecedteaandrelatedpackages': 1, 'whichflashorjava': 2, 'blajar': 1, 'results': 7, 'wee': 2, 'searching': 4, 'itwasdiscussedinajavaconferenceitsbeenlookedatforjava': 1, 'extending': 2, 'urls': 2, 'becouse': 1, 'fun': 4, 'orcal': 2, 'intsalleation': 1, 'addremove': 13, 'aplications': 1, 'aptshowversions': 2, 'sunjavajregutsy': 2, 'uptodate': 2, 'issued': 2, 'yesipastedinsudoupdatealternativesconfigjavaitgivesoptionsthethirdoptionisusrlibjvmjavasunjrebinjava': 2, 'instances': 6, 'ef': 2, 'lastly': 2, 'ogg': 1, 'videos': 6, 'fails': 1, 'video': 4, 'starts': 1, 'craps': 1, 'gutsy': 4, 'azureusjava': 2, 'httpsbugsedgelaunchpadnetubuntusourceazureusbugcomments': 2, 'handle': 9, 'kicked': 1, 'head': 4, 'aboutconfigtypethatinyourfirefoxaddressbarsearchforjava': 2, 'thatisfineimstillonwindowswaitingforubuntutoinstallbutontheonethatsaysjavascriptenablethelastcolumnshouldsaytrue': 2, 'javascriptoptionsstrict': 2, 'false': 4, 'speakers': 1, 'controlsomething': 2, 'obvious': 3, 'usrsharejavapackage': 2, 'actual': 4, 'appication': 2, 'httpnopasteinfofddabhtml': 1, 'activeated': 1, 'ifyouinstalltheubunturestrictedextraspackageitmayautomaticallyinstalljavaandotherstuffyoumaywant': 2, 'distribute': 2, 'ibelievethatjavaisjava': 1, 'imsorryjavajava': 2, 'intheterminalichoosejava': 2, 'content': 7, 'end': 4, 'ty': 2, 'times': 7, 'tea': 2, 'clueless': 5, 'advice': 3, 'appreciate': 2, 'anyonecanhelpmetroubleshootthisjava': 2, 'ihaveubuntuihavetriedtoinstalljavaliketimesnowandevendifferentjavastheteaoneanditsaysitsinstalledevenwhenigotothejavasitebutfirefoxisaskingforapluginforitandwheniselectthejavaitsaysitsalreadyinstalledimcluelessimanewlinuxuserifanyonehasanysuggestionsoradviceiwouldappreciateit': 2, 'gcjwebplugin': 2, 'hmletsinstallwhatshouldworkthenconsiderremovingstuffsudoaptgetinstallsunjavajresunjavaplugin': 2, 'um': 1, 'isitircorajavaforum': 1, 'ub': 3, 'smail': 2, 'bugged': 2, 'httpwwwssdnoaagovgoesflttloopvishtml': 2, 'thus': 2, 'somethings': 2, 'smailcom': 2, 'firefoxs': 2, 'edgy': 2, 'feisty': 5, 'taken': 2, 'eversinceiinstalledjavathatcomplainregardingjdkdoccomesupwhichidonotknowwhy': 1, 'pastethecontentsofvarlibdpkginfosunjavadocpostinstandpreinstifitexists': 2, 'simply': 2, 'dsitro': 2, 'junk': 2, 'restrictions': 2, 'headache': 1, 'shit': 2, 'missed': 1, 'javathingy': 2, 'realvnc': 2, 'keys': 3, 'days': 3, 'timed': 1, 'huge': 1, 'performance': 4, 'terribly': 4, 'computers': 2, 'specs': 2, 'preforms': 2, 'operating': 3, 'management': 2, 'tools': 10, 'control': 4, 'panel': 5, 'preferencesapplications': 2, 'hotspottm': 2, 'mixed': 2, 'mode': 2, 'minute': 2, 'javatm': 2, 'se': 5, 'advantage': 2, 'till': 4, 'primarily': 2, 'commercial': 2, 'recently': 5, 'incomplete': 2, 'utterly': 2, 'useless': 4, 'bug': 2, 'tracker': 1, 'hassle': 1, 'causes': 3, 'openjava': 6, 'iseeiseejavaioioexceptionjavaioioexceptionmediahdawtkbinpreverifycannotexecute': 1, 'iseeise': 2, 'chroot': 4, 'pathnames': 2, 'become': 4, 'invalid': 2, 'experience': 3, 'advise': 3, 'investigate': 2, 'quite': 6, 'clear': 1, 'firebug': 1, 'debugger': 1, 'suspect': 1, 'hang': 1, 'alone': 1, 'flannelking': 1, 'hyphenated': 1, 'proceed': 2, 'seperately': 1, 'spew': 1, 'home': 4, 'reopen': 2, 'gedit': 2, 'jrehomeusrsharejava': 3, 'ithil': 1, 'electronx': 1, 'court': 1, 'heyallnosunjavapluginpackageforeitheror': 1, 'purging': 3, 'upgrading': 4, 'dgro': 2, 'hate': 5, 'anyways': 1, 'sodothissudoupdatealternativeslistjava': 2, 'form': 2, 'stepanstas': 2, 'minutes': 2, 'howcanigetrunningjavainubuntu': 1, 'components': 3, 'restarted': 3, 'firstly': 2, 'rep': 2, 'firefoix': 2, 'piss': 1, 'brocken': 3, 'sdk': 15, 'rpm': 10, 'alien': 1, 'yourusingthejavaappoverxnojustin': 1, 'proprietary': 7, 'tor': 2, 'ants': 2, 'kinds': 3, 'stuffit': 2, 'ridiculous': 2, 'actualy': 1, 'commandnotfound': 1, 'containt': 1, 'instaling': 1, 'splix': 2, 'hmmm': 4, 'lslusrbinjavagiveswhat': 2, 'programsin': 2, 'aptfile': 2, 'binjavac': 4, 'pathusrjavajsdkbinpath': 2, 'late': 3, 'instaled': 6, 'yea': 6, 'proxmoxve': 2, 'vncconsole': 2, 'javaappletto': 2, 'vms': 2, 'hosts': 2, 'call': 2, 'javaaws': 2, 'launched': 4, 'straight': 2, 'kde': 3, 'dvd': 2, 'finished': 3, 'lancher': 2, 'relevent': 2, 'formats': 4, 'javahomeoptjavaexportjavahomedoesnotwork': 1, 'javahomeoptjava': 2, 'gtk': 4, 'backend': 4, 'donwloaded': 1, 'jreulinuxi': 1, 'ax': 4, 'directo': 1, 'ans': 2, 'synaptics': 4, 'matesaying': 2, 'newest': 8, 'tearex': 4, 'matei': 2, 'group': 3, 'usrlibjvmjava': 2, 'forevernoob': 1, 'httpjavacomendownloadinstalledjspjreversionandvendorsunmicrosystemsincandoslinuxandosversiongeneric': 2, 'isthisthelatestinubuntujavaversionjavaversion': 2, 'downsides': 1, 'subpar': 1, 'rtfm': 1, 'sense': 4, 'instance': 4, 'httpubuntutowernetdeubuntu': 5, 'javadocs': 1, 'tries': 3, 'azureas': 1, 'states': 3, 'flashjava': 7, 'logins': 1, 'grrr': 1, 'sotomcatjavaapache': 1, 'implmentation': 2, 'javaserver': 2, 'javahomeusrlocaljava': 1, 'applicationsstillcannotfindjava': 2, 'undoallthechangesyouvedonesofaryouwanttoaddjavatoyourpathandthatsit': 2, 'imsorryicanthelpyouifyouwontlistenialreadysaidyoudontneedtosetjavahomeonlyaddjavatoyourpathlikeisaidhowtodoitisthewaysunrecommendsinstallingit': 2, 'bother': 1, 'expected': 2, 'require': 7, 'hairball': 2, 'hands': 2, 'dedicated': 1, 'opinion': 1, 'specific': 6, 'example': 8, 'sorted': 2, 'confused': 4, 'picking': 2, 'dir': 7, 'q': 2, 'httpwwwliberiangeeknetinstalloraclejavajdkinubuntuprecisepangolin': 2, 'httpswikiubuntucomjavapackagebuildnewversions': 1, 'whentypingsudoaptgetinstallsunjavajdkigetcouldntfindpackagewhy': 1, 'thenhitreloadandthensearchandtypeinsunjava': 2, 'orggudyazureusuiswtmain': 1, 'mps': 2, 'dvds': 3, 'wmv': 2, 'audiovideo': 2, 'ave': 1, 'anyything': 1, 'wel': 2, 'lime': 1, 'wire': 1, 'bad': 13, 'choosethewithjavaorjava': 2, 'searches': 2, 'library': 6, 'referenced': 1, 'jni': 1, 'tan': 1, 'maybeidontwriteinjavayetbutclassstartsonthethofjan': 2, 'concerning': 1, 'device': 2, 'drivers': 6, 'encountered': 1, 'jframe': 1, 'entire': 1, 'lag': 3, 'otherwise': 3, 'brightness': 2, 'hp': 1, 'probook': 1, 'gpu': 1, 'launching': 3, 'appliacations': 1, 'blank': 3, 'white': 3, 'telling': 7, 'assumed': 1, 'eventually': 1, 'splash': 1, 'mind': 4, 'shell': 2, 'axf': 1, 'helloyoueitherhavejavascriptturnedofforanoldversionofadobesflashplayerijustinstalledflashnowhowcaniseeaboutthisjavascript': 1, 'libswidgetsjava': 2, 'developer': 5, 'noticed': 3, 'whether': 5, 'environemtn': 3, 'opened': 3, 'jdklinuxibin': 1, 'machineyou': 2, 'compare': 5, 'ruby': 5, 'shitty': 2, 'absolutely': 4, 'oop': 2, 'course': 6, 'epiphany': 1, 'jremozillaplugin': 4, 'andscrolldowntothejavaplugin': 2, 'continue': 3, 'sunjavabindependsonsunjavajreubuntuhowever': 3, 'packagesunjavajreisnotconfiguredyet': 4, 'usrsbindpkgreconfigure': 2, 'fully': 5, 'yendor': 1, 'utility': 1, 'turns': 3, 'goodforyouimajavaprogrammersoikindaneedit': 2, 'sunjavajrebinplugin': 1, 'chromium': 13, 'performedsteps': 1, 'httpaskubuntucomquestionshowcanienablejavainchromium': 2, 'chromeplugins': 2, 'httpaskubuntucomquestionshowcaniinstalloraclejavajre': 2, 'oracle': 7, 'fight': 2, 'lubuntu': 2, 'icedteaplugin': 2, 'bussy': 2, 'indicator': 2, 'sec': 3, 'itsokgoodlucksunjavabinisavailablein': 2, 'javaw': 2, 'howdidyouinstalljava': 2, 'istalling': 2, 'font': 2, 'conflict': 3, 'thatisafterimasterjavaeclipseandtheandroidsdk': 1, 'andwasthepageajavasite': 1, 'imprettysureithastodowiththekernelandgnujava': 2, 'httpubuntuforumsorgarchiveindexphpthtml': 2, 'fins': 1, 'ifthisisonlucidyouwillgeterrorssinceitdoesnthavesunjava': 1, 'respond': 2, 'affecting': 1, 'miner': 2, 'exporting': 2, 'etcbashbashrc': 3, 'javahomeusrlibjvmjavasun': 2, 'albertubuntu': 1, 'scottg': 6, 'internet': 3, 'decompressed': 2, 'series': 4, 'folders': 5, 'documentation': 7, 'instruction': 2, 'browsed': 2, 'srcmain': 2, 'scott': 2, 'silly': 2, 'figured': 4, 'tough': 2, 'homesadieldesktopaudiverissrcmainaudiverisjava': 2, 'omr': 2, 'omrmainmainargs': 2, 'crossover': 1, 'knowledge': 2, 'devices': 1, 'withou': 1, 'daftykins': 2, 'news': 2, 'machines': 2, 'metric': 2, 'books': 2, 'tutorials': 4, 'ihaventdledanyotherjavaforit': 2, 'serious': 5, 'possibly': 3, 'pm': 4, 'ksoihavejavainstalledbutitalwaysusesadifferentversionwhenigoontothejavasiteitsaysimusingtheincorrectversionandnothingthatrequiresjavaworkseither': 2, 'systemadiministrationsoftware': 2, 'adobe': 7, 'adobeflashpluginandsunjavaplugin': 2, 'reenable': 1, 'extension': 1, 'store': 2, 'extraneous': 2, 'matlabjavausrlibjvmjavasunjre': 5, 'matlab': 3, 'theproblemistheincompatibilityofcompizwithjavaiunderstandtheterminalcommandworksaroundthislikeacharmandidlovetodothiswithoneclickidonotunderstandawordofwhatyoujusttoldmesry': 2, 'issuenot': 1, 'positive': 5, 'cannotyoudisablejavaandseeifitisdifferent': 2, 'pygtk': 1, 'pyqt': 1, 'goal': 1, 'crossplatform': 2, 'controversial': 1, 'net': 3, 'licensing': 1, 'mono': 1, 'implementations': 1, 'gnulinux': 1, 'patent': 1, 'cloud': 1, 'hanging': 1, 'overhead': 1, 'definitely': 4, 'familiar': 6, 'allocation': 2, 'garbage': 5, 'collection': 2, 'responsibility': 2, 'whereas': 4, 'builtin': 2, 'deploy': 2, 'tntc': 2, 'thank': 7, 'contribution': 2, 'asm': 2, 'indeed': 3, 'power': 3, 'lags': 2, 'programmer': 5, 'tradeoffs': 2, 'slower': 4, 'compared': 3, 'apis': 1, 'modpython': 1, 'parts': 2, 'usesunjavauseazureusbetatoavoidaguibug': 1, 'claims': 4, 'valid': 2, 'websites': 5, 'local': 4, 'global': 1, 'soon': 2, 'computer': 8, 'reboot': 4, 'colors': 1, 'flashing': 1, 'checkerboard': 1, 'patterns': 1, 'vmware': 2, 'xp': 2, 'behaves': 2, 'tabs': 2, 'plan': 2, 'environement': 1, 'grab': 7, 'whereisagoodlocationtoinstallthejavasdk': 1, 'generate': 2, 'jres': 4, 'jdks': 2, 'necessary': 2, 'ihavegbfreesimsearchingsynapticandfoundjavapackage': 2, 'hehehe': 4, 'allways': 2, 'awesone': 2, 'designed': 2, 'repeat': 3, 'enterprise': 4, 'gpl': 2, 'weeks': 3, 'liking': 2, 'tutorial': 3, 'corresponds': 2, 'hich': 2, 'irealisedthatjavaruntimeisinstalledandpluginisfor': 2, 'libservletjava': 2, 'httpservlet': 2, 'import': 2, 'javaxservlet': 3, 'jee': 2, 'suncom': 1, 'aterminal': 2, 'objects': 1, 'managed': 4, 'gdm': 1, 'manage': 1, 'haveyoutrieditwithanyotherwebsitesrequiredjava': 1, 'freeze': 2, 'dunno': 5, 'returned': 1, 'optjava': 2, 'whereever': 3, 'joke': 4, 'scratched': 2, 'almost': 5, 'reliable': 2, 'holes': 2, 'misunderstood': 1, 'glitches': 2, 'slighly': 2, 'ididthisintiallyandthenihadawholenewproblemiwouldgetmylocaleisnotcorrectandicouldnoteveninstallnetbeansorrunanyjavaprogramsiaskedforawholedayaboutthisproblemandnobodyeverresponedareyoufamilarwiththisicanprovidethefullerror': 2, 'igotthiserrorwiththesunpackageandrunninganyguijavaprogramcurrentlocaleisnotsupportedinxlocaleissettocxlocalemodifiers': 2, 'doesubuntuhavaasunpackageorshouldijustdownloadfromjavasuncom': 2, 'cookies': 1, 'javascriptoptions': 1, 'cokies': 2, 'doidoitthroughsynapticbecauseigotheapsoffileswithjavanone': 2, 'showthattheaplicationaptcanbefoundinthepackagessunjavajdkwhatido': 2, 'tyring': 1, 'database': 4, 'typically': 3, 'uploaded': 3, 'obsoleted': 3, 'contents': 4, 'letmeaskitanotherwayhowdoiinstallsunjavajdkon': 2, 'ivethoughtthatiasunjavacouldworkwithfirefox': 2, 'howdoimakefirefoxworkwithjava': 1, 'youinstalljava': 2, 'httppastebincommffad': 1, 'effin': 2, 'minor': 4, 'recommended': 6, 'names': 5, 'oesanyoneknowwherethejavahomeislocatedonubuntu': 1, 'triedechojavahome': 2, 'injava': 2, 'cam': 2, 'webcam': 1, 'freemind': 1, 'dependecies': 1, 'theirs': 1, 'libcommonscodecjava': 6, 'libcommonslangjava': 6, 'libformsjava': 6, 'libjaxpjava': 6, 'librelaxingdatatypejava': 6, 'stat': 3, 'jrel': 1, 'youtryingtogetjavaworking': 2, 'realplayer': 4, 'wouldnt': 2, 'couldnt': 5, 'ux': 2, 'everyhting': 2, 'executed': 2, 'succesfully': 2, 'realplay': 2, 'failedjava': 2, 'straightforward': 2, 'puts': 2, 'considered': 3, 'configs': 2, 'usrlocal': 2, 'muchbut': 2, 'awkward': 2, 'tellmetheresultofjavaversion': 2, 'razorx': 2, 're': 3, 'thie': 2, 'ibook': 2, 'glitch': 2, 'worried': 4, 'doc': 3, 'crash': 5, 'popup': 3, 'therein': 2, 'lies': 2, 'retry': 2, 'horrible': 2, 'sh': 5, 'virtal': 1, 'ido': 1, 'necrosan': 2, 'eehm': 2, 'chatrooms': 3, 'rooms': 2, 'percent': 2, 'hogging': 1, 'resources': 4, 'ugly': 2, 'annoying': 1, 'termial': 2, 'teh': 3, 'animal': 2, 'write': 8, 'iinstalledsunjavapluginbutfirefoxdoesntseeanythinginaboutpluginorinpageusingjavaanyidea': 2, 'heyguysivetoaskyouaquestionwhatdoesimplytocreatealinktoafolderinbinexampleandreatagliabinlnsusrjavabinjava': 1, 'usrjavajrebin': 2, 'operations': 3, 'operative': 2, 'httpwwwubuntulinuxorgwikiaddingjavasupport': 2, 'office': 4, 'rofl': 2, 'dude': 3, 'flashplugininstaller': 3, 'unrecognized': 2, 'showversion': 2, 'soiguessmaybeyourversionofjavadoesnothavethefirefoxplugininbuilt': 2, 'mins': 2, 'aswell': 2, 'computeri': 3, 'jkd': 3, 'exucutablewtf': 3, 'clicking': 2, 'slecting': 2, 'xmxm': 5, 'xmsm': 5, 'cp': 4, 'downloadsminecraftjar': 3, 'netminecraftlauncherframe': 4, 'desktopminecraft': 7, 'hieveryoneiupdatedtomyjavaapplicaionusejdbcconnecttomysqlisbadwhywhocanhelpme': 1, 'everyone': 2, 'applicaion': 2, 'jdbc': 2, 'mysql': 2, 'adsl': 2, 'wast': 2, 'startup': 3, 'exec': 5, 'usrlibjvmjavaopenjdkjrebinjava': 5, 'httpshelpubuntucomcommunityjavaheadbacbdbfce': 2, 'errore': 2, 'httpwwwcscornelledudjmubuntuindexbreezyhtmsunjava': 2, 'ubuntus': 5, 'built': 1, 'mailed': 2, 'reply': 2, 'standard': 3, 'lemme': 2, 'oh': 11, 'joining': 1, 'hmmmthat': 2, 'worki': 2, 'channelany': 2, 'happened': 3, 'nakos': 2, 'myproblemisthatwhenitypejavaverisonattheterminaligetjavaversion': 1, 'anditshouldreadjavaversion': 2, 'didyoutryaptgetinstallsunjavajre': 2, 'coudlnt': 2, 'netcraft': 1, 'silverlight': 1, 'solution': 4, 'javascriptsvg': 2, 'animations': 3, 'lose': 2, 'niche': 2, 'helpineedtoinstalljavarunebuticannotivespendedhoursandhoursbuticantdothis': 1, 'mistakenly': 1, 'absolute': 1, 'beginners': 1, 'knowing': 1, 'vb': 1, 'beginner': 2, 'gimme': 2, 'flashplayermozilla': 1, 'parameters': 1, 'doesthisseemaccuratehttpwwwjustlinuxcomnhfprogramminginstallingjavaonlinuxppchtml': 1, 'didn': 1, 'cananyonehelpmepleaseiamgettingthiserroreachtimetrytoinstallanysoftwarefromsynapticpkgmanagerorusingaptgetcacertificatesjavasubprocesspostinstallationscriptreturnederrorexitstatus': 1, 'seeifyoucaninstallcacertificatesjavaithinkthaterrorwasfixednotsurethough': 2, 'cacertificatesjava': 2, 'pissed': 1, 'take': 5, 'ned': 1, 'javascriptcommon': 2, 'detected': 1, 'unexpected': 1, 'died': 1, 'procedure': 3, 'jse': 1, 'httpsjdkdevjavanetuneahtml': 2, 'registered': 2, 'regard': 2, 'node': 1, 'hadoop': 1, 'happend': 2, 'updatealternaitves': 2, 'differentt': 2, 'han': 2, 'ionstalled': 2, 'theoneforjava': 2, 'netbeansyaidonotunderstandthisprogramwhatsoeverimtoousetodrjava': 1, 'tht': 1, 'ensure': 3, 'situation': 3, 'preinstalled': 3, 'suits': 2, 'throws': 2, 'igotacpuspikeonloadingitandnowihaveacpuspikeprobablybecaueofthejavaandthesounds': 1, 'jspmeansjavaserverpageandhasnothingtodowithyourbrowser': 1, 'terms': 2, 'witht': 2, 'word': 6, 'spork': 1, 'httpjavasuncomjsedownloadjsp': 3, 'gotowwwhttpjavasuncomjsedownloadjspandclickondownloadjreupdate': 2, 'rooney': 1, 'offline': 2, 'icedteajava': 2, 'throw': 2, 'idonotreallyknowlookingatmimnojavaguruthoughsodonotgetyourhopesup': 2, 'possability': 2, 'eft': 2, 'limewirk': 2, 'howdoigetjavaaptgetinstalljava': 1, 'abin': 2, 'beleive': 2, 'javaxmxmxmsmcpminecraftjarnetminecraftlauncherframewithoutthequotes': 1, 'installsunjavajreandsunjavaplugin': 1, 'dion': 1, 'banshee': 7, 'music': 5, 'familuar': 2, 'locking': 8, 'soundcard': 4, 'clashing': 2, 'song': 4, 'sits': 2, 'double': 2, 'feistybetajavaversion': 2, 'follwing': 2, 'ought': 1, 'thin': 1, 'clientsjava': 1, 'mosibfu': 2, 'cpu': 3, 'culprit': 2, 'socks': 2, 'proxy': 2, 'push': 2, 'mbsec': 2, 'personnaly': 2, 'scripted': 2, 'waste': 2, 'general': 4, 'favorites': 2, 'low': 2, 'programmers': 6, 'msg': 9, 'ubottu': 5, 'tar': 3, 'perl': 2, 'naliothistillhavethatjavaproblem': 1, 'archives': 2, 'turtlegraphics': 2, 'breezyswing': 2, 'exemple': 1, 'removal': 1, 'operation': 1, 'apply': 1, 'libgnucryptojava': 1, 'pointing': 1, 'pointed': 1, 'towards': 1, 'synapticapt': 2, 'libreofficejavacommon': 2, 'libreofficeuserconfigjavasettingslinuxxml': 2, 'azureusisjavaappyouknowhowtorunjavaappsright': 1, 'ver': 2, 'theinstructionsforaccessingflashwithfirefoxonubuntustudioonanamdfoundatthebottomofhttpshelpubuntucomcommunityamdfirefoxandpluginsactionshowandredirectfirefoxamdflashjavaseemconfusingifidonotwantbitlibsbutstillwantflashwhatexactlyarethecommandsthatishouldexecuteonthatubuntuwebpage': 1, 'ppl': 2, 'witch': 3, 'thisisthejavapluginformozillafirefoxforjava': 2, 'ihavesunjavaplugininstalledbutnojavafromsuninff': 2, 'sunjavasdk': 8, 'sunjavajvm': 2, 'startx': 7, 'sytnaptic': 2, 'reversed': 2, 'sudoaptgetinstallsunjavajdksunjavajre': 2, 'packafe': 2, 'updating': 2, 'subsonic': 2, 'readjavaivetoldyoutimes': 2, 'javahomewhereverthejavalibraryis': 2, 'hint': 2, 'listing': 3, 'readjava': 2, 'ubuntuguideorg': 3, 'pathtojavablahblah': 2, 'thanksbutimstillwonderingwhereinubuntuguideorgitsaysaboutjavaandpath': 2, 'sf': 2, 'homebigfootmozillaplugins': 2, 'spot': 2, 'mine': 3, 'engine': 7, 'dynamic': 2, 'generation': 2, 'hidden': 2, 'transitions': 2, 'collectiontests': 2, 'september': 2, 'showed': 2, 'webkit': 6, 'nightlies': 2, 'resulted': 2, 'improved': 2, 'speed': 4, 'benchmark': 2, 'tests': 3, 'whcih': 1, 'obscure': 1, 'wine': 5, 'rite': 1, 'hack': 3, 'ur': 2, 'ahh': 2, 'havent': 3, 'across': 2, 'suppose': 2, 'plenty': 1, 'daskreech': 2, 'personally': 4, 'copies': 2, 'meta': 2, 'commonly': 2, 'desired': 2, 'philosipy': 2, 'spell': 2, 'including': 2, 'homedjiefominecraftjar': 1, 'homedjiefominecraftminecraftjar': 6, 'javajarhomedjiefominecraftbinminecraftjar': 2, 'javajarhomedjiefominecraftminecraftjar': 2, 'capital': 2, 'kindlinktohomedjiefominecraftjaropenwithopenjdkjavaruntimelinktargethomedjiefominecraftjar': 2, 'andjavajarhomedjiefominecraftjarcapitalm': 2, 'reloaded': 6, 'filenamejar': 3, 'jnlp': 2, 'according': 5, 'nojavaruntimeenv': 1, 'seewhatjavayoudohaveinstalledjavaversion': 1, 'noideareallytheofficalsunjavaisinthepartnertsrepoifyouhavejavainstalleditsproberlytheotherone': 2, 'omfg': 1, 'hundred': 1, 'step': 6, 'ffll': 2, 'caniinstallopenjavathroughterminal': 2, 'sudoaptgetinstallopenjava': 2, 'sighsudoaptgetinstallopenjavadidnotwork': 2, 'sobasiclyimnotgoingtobeabletogetjava': 2, 'networks': 1, 'eth': 2, 'sniffersbindhclient': 2, 'trustworthy': 2, 'particular': 3, 'difficulties': 1, 'tick': 2, 'hit': 2, 'eclipsejdt': 2, 'basic': 4, 'javay': 2, 'bits': 6, 'wish': 4, 'jus': 2, 'speak': 2, 'creating': 2, 'revisions': 2, 'libraries': 3, 'easyeclipse': 2, 'api': 4, 'print': 2, 'jrewhateveryourjavapackageisbin': 2, 'usrlibjresunbinjava': 3, 'libjavapluginso': 7, 'libreoffice': 3, 'functionality': 2, 'nags': 2, 'ton': 2, 'warnings': 3, 'classpathusrsharejavamysqlconnectorjavabinjar': 3, 'bashrc': 2, 'mot': 1, 'enoughha': 2, 'javathe': 1, 'edpkg': 1, 'interrupted': 1, 'cacheopenfailedplease': 1, 'report': 2, 'accept': 3, 'license': 5, 'agreement': 2, 'ubuntuto': 2, 'javacan': 2, 'shortly': 2, 'describe': 2, 'lost': 2, 'solved': 3, 'butt': 2, 'heads': 2, 'pieces': 2, 'conflicts': 2, 'whatjavapackageshallbeinnstalled': 2, 'bring': 3, 'fexample': 2, 'fex': 4, 'packets': 2, 'innstallshall': 2, 'bound': 2, 'itisthejavatestapplet': 2, 'usrlibjvmjavasunjrelibamdlibnpjpso': 8, 'corresponding': 2, 'pasteubuntucom': 2, 'compatibility': 2, 'addons': 2, 'prompted': 1, 'totem': 2, 'streams': 1, 'disallow': 2, 'fail': 2, 'calls': 2, 'seperate': 2, 'packaging': 4, 'self': 6, 'extracting': 6, 'hmmthejavatrapinactionthen': 1, 'pastebinkaarsemakernet': 1, 'activate': 2, 'cut': 2, 'giv': 1, 'javahomeusrlibjvmjava': 1, 'points': 2, 'hmmsaysthereisamanualandautomodebothpointtothesamejavasunsoitseemsitisusingsun': 2, 'helloclass': 2, 'heres': 2, 'httprafbnetpleuwnqhtml': 2, 'appplets': 1, 'idassumeoveratjavamaybe': 1, 'newly': 1, 'sunjvm': 1, 'flashnonfree': 1, 'blocks': 1, 'alsa': 2, 'libmysqljava': 2, 'filesystem': 1, 'higuysalwaysthesamequestionijustinstalledkubuntuanddonotrememberaptrepositoryforjavaruntimeenvronmentforamd': 1, 'envirement': 1, 'jaunty': 1, 'jdkhome': 1, 'thisstarting': 1, 'autosearch': 1, 'oops': 2, 'usrlib': 1, 'hierarchy': 2, 'httpwwwjavacom': 1, 'usrjavaj': 1, 'involved': 1, 'workarounds': 1, 'atunes': 1, 'gobble': 1, 'chew': 1, 'cpuis': 1, 'hiya': 1, 'defualt': 1, 'meerkat': 2, 'isitpossibletouseaptgetinstalljava': 1, 'howdoiinstalljavaonkarmic': 1, 'immediately': 1, 'exceptioninthreadmainjavalangunsupportedclassversionerrororgeclipseswtwidgetsdisplayunsupportedmajorminorversion': 1, 'thaterrormessagemeansyouaretryingtouseajavaclasswithjava': 2, 'goddamnitautomatixinstalledaversionofjavathaticannotgetridof': 1, 'hook': 1, 'javaflash': 2, 'rest': 3, 'compilerun': 1, 'asteroidsmain': 2, 'gnujavalangmainthreadrunlibgcjso': 2, 'hii': 1, 'whycnticompilejavafileswithshellonthelivecd': 1, 'afternoon': 1, 'xubuntu': 3, 'netbook': 1, 'wait': 4, 'button': 1, 'action': 1, 'listener': 1, 'joi': 2, 'hellou': 1, 'iam': 1, 'char': 2, 'howdoiinstalljavaintothebrowserinubuntu': 1, 'libjavaplugin': 2, 'symbian': 2, 'mobiles': 1, 'howtoinstalljavainubuntu': 5, 'mercury': 1, 'comdmsnmain': 1, 'blahwar': 2, 'helped': 1, 'utube': 1, 'adobecom': 1, 'r': 1, 'bsanders': 1, 'feasty': 1, 'helop': 1, 'littleknown': 1, 'tomorrow': 1, 'onto': 1, 'interest': 2, 'httpwwwehowcomhowinstalljavaxubuntuhtml': 2, 'ajax': 3, 'ecmascript': 2, 'automatix': 1, 'difficult': 1, 'resolve': 1, 'heyalllasttimeitriedthebitversionihadseveralissueswithflashjavaetciwaswonderingifthesearestillaroundwith': 1, 'ffrom': 2, 'blackhawd': 2, 'cananyonehelpmeinstallsunjavaforfirefoxiinstalledblackdownbutitseemswurmwontrunwiththatandnowimstuck': 1, 'hiwhatisthepackagenameforsunjavajdk': 1, 'lucid': 1, 'jane': 1, 'httphtmltreecomjavascriptphp': 1, 'preformance': 1, 'powered': 1, 'ubuntubut': 1, 'format': 1, 'screenprotection': 1, 'produced': 1, 'mgs': 2, 'delphiphp': 2, 'six': 1, 'months': 2, 'migrated': 1, 'our': 1, 'connection': 3, 'alocate': 1, 'fairly': 2, 'fresh': 4, 'aptdatealternatives': 1, 'choosed': 1, 'haveualinkfordownloadingajavaclasseditorclassprogramforpc': 2, 'inotethatsunjavaisgoingawayinlucidsoifyoudependonityoumightwanttogetreadyforthat': 1, 'al': 1, 'expression': 2, 'iasunjavabin': 4, 'defaut': 2, 'installa': 1, 'prior': 1, 'lamp': 1, 'locally': 1, 'howcaniupdatemyjavainpackagemanagersunjavajreetcarelistedasbeinguptodatebutthatisversionupdateandcurrentisversionupdate': 1, 'finding': 2, 'logmeincom': 1, 'y': 1, 'hmmhowdoiinstalljava': 1, 'higuysicantgetjavatorunonanyofmybrowserson': 1, 'howdoigetjavaforubuntu': 1, 'filejar': 3, 'usrlibjvmjavasunjrelibext': 1, 'tag': 1, 'slightly': 3, 'effect': 1, 'atrocious': 1, 'somewhat': 1, 'sceptical': 1, 'decent': 1, 'pkg': 4, 'difficulty': 1, 'reliably': 1, 'distro': 2, 'applikation': 1, 'satisfiablesunjavajresunjavajresunjavajdksunjavajdk': 1, 'officialfrom': 1, 'aptcachesearchjavacheckwhatyouget': 1, 'limewirestepbystep': 1, 'hhheellppp': 1, 'bbroken': 1, 'automatixisdeadhavetogetridofthisjava': 1, 'whydoyouneedjavaatall': 1, 'n': 1, 'pogocom': 1, 'launcher': 2, 'hollalajava': 1, 'hollalajar': 2, 'imhavingsometroubleinstallingjavainfirefox': 1, 'imhavingsometroubleinstallingjavainfirefoxhardyheron': 2, 'allready': 1, 'dosent': 1, 'unr': 1, 'icons': 1, 'anyonewithahowtoforjava': 1, 'httpwwwnintendocom': 1, 'whatisthebestwaytoinstallaprogramthatisnotfromdebianprojectlikesunjavafromtarbzfiledownloadedfromjavacom': 1, 'prograsm': 2, 'deployed': 2, 'supposedly': 2, 'men': 1, 'introduction': 1, 'manual': 1, 'quickly': 2, 'concepts': 1, 'techniques': 1, 'anny': 1, 'toe': 1, 'knowllige': 1, 'howicanconnecttochanneljava': 1, 'nonubuntu': 1, 'infomation': 1, 'colored': 1, 'println': 1, 'httpwikiosuoslorgdisplaydevjavaondebian': 3, 'hiineedjavahowdoiupgradefrom': 1, 'seconds': 2, 'typepjavausrbinjavaiwouldliketofindoutwhoownsthepackagebutdpkgsusrbinjavasaysdpkgusrbinjavanotfoundhowdoifindoutwhoownsusrbinjava': 2, 'webpages': 1, 'sophisticated': 1, 'javaclone': 1, 'firefoxswiftfox': 1, 'toip': 1, 'sunjavadb': 1, 'incompatible': 1, 'javalagstring': 1, 'lettergrade': 1, 'stdinnext': 1, 'ifconfig': 1, 'javatard': 2, 'emvironment': 1, 'intrepid': 2, 'letter': 1, 'ww': 1, 'plz': 2, 'injavabasedcompiledappshowcanispecifywhichjreiwanttorun': 1, 'possible': 2, 'whywouldyouneedjavawithoutagui': 2, 'comments': 1, 'usenonjavasitesinstead': 2, 'awesome': 1, 'methods': 1, 'javacexe': 1, 'homealexprogramsjdkjavacexe': 2, 'appname': 1, 'exact': 2, 'suhjavaplugin': 2, 'anybodyknowagoodircchannelserverforjavadiscussion': 1, '？': 1, 'lah': 1, 'usrbin': 3, 'etcalternatives': 3, 'suitable': 5, 'hihowdoiinstalljavainlucidwhichrepohasitbeenmovedto': 1, 'skypeandjavadonotrunonbitubuntu': 1, 'definately': 2, 'boring': 2, 'corporate': 2, 'suck': 2, 'googling': 3, 'makesureyouhavesunjava': 1, 'whit': 1, 'intaliosion': 1, 'interrupt': 1, 'ibmjavappcsdk': 1, 'friends': 3, 'helloiinstalledjavabutstillffdoesnotuseit': 1, 'haveyoudonesudoupdatealternativesjava': 2, 'webplugin': 1, 'information': 3, 'receive': 1, 'jamvm': 1, 'kaffe': 1, 'persists': 1, 'trace': 2, 'howdoiinstalljavaor': 1, 'verson': 2, 'soanyotherideasofhowtogetmyfirefoxtousejava': 1, 'creazy': 1, 'habe': 1, 'god': 1, 'downloading': 3, 'unofficial': 1, 'bittorrent': 2, 'stops': 1, 'messages': 1, 'yahoolike': 1, 'recognizing': 1, 'stuck': 2, 'potentially': 1, 'newb': 1, 'helphow': 1, 'usrlibjsdksunjreplugininslibjavapluginojiso': 1, 'gang': 1, 'enviorment': 1, 'recognised': 1, 'whydoesntthejavaplugingetrecognisedbyfirefox': 2, 'mikechelen': 1, 'jo': 2, 'private': 3, 'specialized': 1, 'internal': 1, 'javanet': 1, 'socket': 1, 'reset': 1, 'thx': 3, 'enviroments': 3, 'feat': 1, 'tgz': 1, 'vnes': 1, 'suspecting': 1, 'kubuntu': 1, 'suggested': 1, 'activated': 1, 'dled': 1, 'libglalwaysindirect': 1, 'flashes': 1, 'rpms': 1, 'thejavapluginisavailableinthereposopenupsynapticandnamesearchforsun': 2, 'naranha': 1, 'closes': 1, 'clicks': 2, 'side': 1, 'openjre': 1, 'opentheminecraftjarfileusingajavavirtualmachine': 1, 'whichversionofjavashouldiuseformybrwoserandapplicationjdkorjre': 1, 'w': 2, 'anygoodidaforasimplejavainstallerforlinuxubuntu': 1, 'usrjavajrebinjava': 2, 'webserver': 2, 'webmin': 2, 'functions': 2, 'packe': 2, 'copied': 3, 'purpose': 1, 'zanberdo': 2, 'heyguysihaveaquickquestioniwanttogetjavaworkinginfirefoxandihavetheicedteapluginthatseemsnottoworkwithmanypopularappsiwaswonderingiftherewasaproprietarysolutioninubuntuimon': 1, 'classic': 1, 'mem': 2, 'leak': 1, 'newbie': 1, 'intermediate': 1, 'jdkulinuxibin': 1, 'copying': 1, 'pasting': 1, 'falstad': 1, 'circuits': 1, 'ctrlc': 1, 'howdoiinstalljavaon': 1, 'doesyourffshowsthejavapluginasloaded': 2, 'imtryingtoaddprefixestofilesinadirectorytreeiexxxfilenamexxxfilenamenotsurehowtodothiswithfindfindnamejavaexec': 1, 'inside': 1, 'applicationjar': 1, 'graphically': 2, 'opens': 2, 'direction': 1, 'getselections': 1, 'installedsoftware': 1, 'pipe': 1, 'grateful': 1, 'httpjavacomendownloadmanualjsp': 1, 'suggestion': 2, 'backup': 1, 'taht': 1, 'winnie': 1, 'systems': 2, 'graphical': 2, 'shiny': 1, 'sugestion': 1, 'languageplatform': 1, 'developpthis': 1, 'hummm': 1, 'famous': 2, 'portability': 3, 'theamarokproblemissolvedontheubuntuforumsitislikelysomethingtodowiththejavavmyouhaveinstalled': 1, 'behind': 3, 'firewall': 2, 'awmigood': 1, 'wherecanigetjavafrom': 2, 'yourprogramjava': 2, 'screechingcat': 1, 'lookin': 1, 'design': 2, 'drag': 1, 'drop': 1, 'highly': 2, 'customizableany': 1, 'greetingshow': 1, 'eclipsejavaeuropalinuxgtktargz': 2, 'howcaniinstalljavaonubuntu': 2, 'javasupport': 1, 'tamirs': 1, 'mount': 4, 'jdklinuxamdbin': 2, 'mounting': 2, 'aboutconfig': 1, 'addon': 1, 'haveajavainubuntu': 1, 'brand': 1, 'needing': 1, 'howdoiswitchthedefaultjavatosunjdk': 1, 'ibex': 1, 'howcaniinstalljavainubuntu': 3, 'interpreter': 2, 'reposotories': 1, 'hells': 1, 'studio': 2, 'greencooke': 1, 'httpjavasuncomdocsbookstutorial': 1, 'resenting': 1, 'damn': 1, 'javairc': 1, 'clients': 1, 'slowly': 1, 'gjc': 2, 'took': 1, 'reconize': 1, 'identify': 1, 'seeifthatfixesyourjavaproblems': 1, 'httpzagooglepagescommodifyingubunturepositories': 1, 'httpubuntuguideorgwikidapper': 1, 'usefull': 1, 'httpzagooglepagescomhome': 1, 'overriding': 1, 'away': 4, 'cool': 3, 'generic': 3, 'asjava': 1, 'gstreamerpluginsugyly': 1, 'flashpluginnonfree': 3, 'chromiumbrowser': 2, 'httpgamesyahoocom': 1, 'dots': 1, 'myi': 1, 'stupidi': 1, 'reading': 2, 'typingi': 1, 'javajakethesamequestionforohcihostcontroller': 1, 'ugh': 1, 'disappointed': 1, 'docs': 3, 'sit': 1, 'iirc': 3, 'collector': 1, 'itstillcrashesusingjava': 1, 'httpshelpubuntucomcommunityfirefoxamdflashjava': 1, 'javascriptdhtml': 1, 'libcommonsclijava': 1, 'liblogjjava': 1, 'libsedajava': 1, 'sud': 1, 'javare': 1, 'info': 5, 'httpwwwgnuorgphilosophyjavatraphtml': 1, 'likely': 2, 'often': 4, 'classes': 3, 'met': 1, 'dpkgquery': 1, 'yeahdidyoutryinstallingsunjava': 1, 'ignore': 1, 'joaopinto': 1, 'instructed': 1, 'javacommons': 1, 'curious': 1, 'opening': 2, 'torrentjava': 1, 'combination': 1, 'impossvel': 1, 'achar': 1, 'pacote': 1, 'interpreted': 1, 'tip': 1, 'libs': 3, 'fubard': 1, 'rails': 1, 'fucking': 1, 'installwhat': 1, 'checking': 1, 'ircatwork': 1, 'javafreenodenet': 1, 'bloat': 1, 'anysoftware': 1, 'wordbizjar': 1, 'ubotus': 1, 'usrlibjavajava': 1, 'te': 1, 'hehe': 2, 'beat': 2, 'alot': 1, 'love': 1, 'magic': 1, 'youcanrunsudoupdatedbandthentrylocatejava': 1, 'searc': 1, 'thejavaviewerisveryconvenentalthoughyoushouldtrytonotusedefualtportsifyoumakeitaccessabletotheinternetigetpeopletyingtoconnecttomyvncdailyforallovetheplace': 1, 'okaytoaddmanuallysudoupdatealternativesinstallusrbinjavajavapathtonewversionjava': 1, 'suckdom': 1, 'freind': 1, 'ithinkitlikejavajustbettersomehow': 1, 'suprised': 1, 'appsserverscellphones': 1, 'thatone': 1, 'talk': 1, 'typeing': 1, 'nonfree': 1, 'sametomeionlygetflashtoworkcantfixjavasomehow': 1, 'quote': 1, 'soreau': 1, 'homelygirl': 1, 'menblackdown': 1, 'seperatly': 1, 'httpwwwubuntulinuxorgwikijavamethodoffersarepowithjava': 1, 'mk': 1, 'quotes': 1, 'sunjavabkin': 1, 'ifitdoesnothurtilljustkeepittherethanksforthehelpibettergobacktomyjavacing': 1, 'trend': 1, 'housecall': 1, 'eather': 1, 'virus': 1, 'scanner': 1, 'goodquestionisdoesjavapackagecreatethatone': 1, 'uh': 1, 'wrapper': 1, 'thereisindeedgotojavachannelandseewheretheyleadyou': 1, 'versed': 1, 'photos': 1, 'launches': 2, 'httppastebincommadb': 1, 'thsi': 1, 'httpstorkeypluscom': 1, 'idonothavejavaandidonothavehoary': 1, 'large': 1, 'chunks': 1, 'onthejavahelppagerightabovejava': 1, 'javascriptcheck': 1, 'editpreferencescontent': 1, 'tighest': 1, 'container': 1, 'email': 1, 'pushes': 1, 'swap': 1, 'despite': 1, 'responsive': 1, 'aptge': 1, 'tinstall': 1, 'fops': 1, 'requirements': 1, 'gah': 1, 'multijava': 1, 'vistajustgotajavaupgrade': 1, 'woudnt': 1, 'dialy': 1, 'knew': 1, 'likes': 1, 'hog': 3, 'httpnetbeansorgdownloadsindexhtml': 1, 'toolsjar': 1, 'httprapidsharecomfileslibjavapluginojisohtml': 1, 'spamming': 1, 'spammers': 1, 'attempting': 1, 'spam': 1, 'antispam': 1, 'httpsbugslaunchpadnetubuntusourcesunjavabug': 1, 'ya': 1, 'couple': 2, 'httptodayjavanetpubatodayjogldhtml': 1, 'icedteajavabineroorcodenumber': 1, 'wellthatisallicandoforyouhavenotmessedwithjavaimsurethereisatutorialorgooglecouldhelpyoufind': 1, 'opensource': 2, 'ns': 1, 'kyral': 1, 'themselves': 1, 'autodownloaderinstaller': 1, 'elinks': 2, 'javajavascript': 1, 'gmail': 1, 'nowadays': 1, 'javabugz': 1, 'httpwwwmultimediaboomcomhowtoinstalljavainubuntunattynarwhalppa': 1, 'statement': 1, 'posted': 3, 'nowhow': 1, 'case': 5, 'expecting': 1, 'http': 1, 'complicated': 1, 'prajyot': 1, 'exportcert': 1, 'alias': 1, 'homeakashmanoharkeystore': 1, 'usrlibjvm': 2, 'optjavawhatever': 1, 'day': 1, 'walk': 1, 'keyboard': 1, 'rerun': 1, 'updatejava': 1, 'pdfsamejar': 1, 'dpkgreconfiguresunjavaplugin': 1, 'hopefully': 1, 'whyhaveyougotjavainstalledtherewhynotusetheusualoccasions': 1, 'overloaded': 1, 'operators': 1, 'whydoyouneedtoknowitissetbyjavaortomcatwhileitisbeinginitialiseditdoesnotnormallybeneedtobeknowntotheuser': 1, 'drjavajar': 2, 'ldlibrarypathwhatever': 1, 'school': 1, 'justwantedtomakesureinstallingsunjavadefaultstoit': 1, 'isn': 1, 'othing': 1, 'aer': 1, 'polling': 1, 'backonsubjectnoluckwiththeflashjustrealisedihaveanolderversionoffirefoxreckonitwouldbeworthwhiletoupgradethatwhileimatitcrrentlydoingjavanow': 1, 'jedit': 1, 'soifyouhavethejavafolderjreaaathenyouhadcopythejreaaafoldertousrlibjvmandthecommandwouldbesudoupdatealternativesinstallusrbinjavajavausrlibjvmjreaaabinjava': 1, 'howcaniinstalljavajre': 1, 'thatlotgivesoraclenotsunanymorejava': 1, 'true': 1, 'recommendations': 1, 'wolsjavajakeravimasterreadingyellformeifyouneedplease': 1, 'fortunately': 1, 'hell': 1, 'jarfile': 1, 'javacould': 1, 'howicanaddjavapath': 1, 'replace': 3, 'iusejavaijustuseotherspackagesthoughdonotneedjavaformuch': 1, 'kernels': 1, 'acpi': 1, 'redirects': 1, 'circles': 2, 'ref': 2, 'swing': 1, 'stillnoluckimstuckonthewhitescreenweniopenapagewithjavaneeded': 1, 'noihavetoisntallthepackagedidthatbuthavetospecifyalsothelinktojavadirasitlooksonforjdkdirwhichdoesntexist': 1, 'kept': 2, 'screwin': 1, 'okdownloadthegreenfootjarinstallerthenopenaterminalandtypejavajargreenandhitthetabbuttononcetocompletethenamethenhitenteritmayormaynotinstalldependingondependecies': 1, 'ifyouneedanymorejavahelplemeknowjustconfigureditboutminago': 1, 'sunjavabinideb': 1, 'unsupported': 2, 'iamajavadevelopersoijusthatetothinkaboutpeoplerunningwitholdandslowversionswithpossibleincompatabilities': 1, 'confirm': 1, 'etcprofile': 1, 'usrbinjavaversionwhatdidyouget': 1, 'welliftheydonotgiveyouanyinfoitisuptoyoutofindoutwhatyouneedtousemyguessisjavaversion': 1, 'reminds': 1, 'prefect': 1, 'strange…': 1, 'bridging': 1, 'sysctl': 1, 'wrecks': 1, 'licence': 1, 'lingering': 1, 'behavior': 1, 'mostofthestuffbreaksnearnothingthereisworkaroundsfortherestihadlikepackagesofwhichwereibmjavasunjavablackdownjavaetcthatihadtochpaxaround': 1, 'thatshouldtakecareofmediaplaybacknowyoucantestthatjavaapptoseeifitworksnow': 1, 'httpseveasubuntulinuxnldistsbreezyseveasjava': 2, 'image': 2, 'myabe': 1, 'min': 1, 'preparing': 1, 'usrlibchromiumbrowserplugins': 1, 'usrlibjvmjavaopenjdkjrelibiicedteapluginso': 1, 'noprob': 1, 'optimized': 1, 'safely': 1, 'patched': 1, 'teams': 1, 'unsafe': 1, 'instensive': 1, 'httpmirrorubuntulinuxnldistsbreezyseveasjava': 1, 'rambo': 1, 'youmake': 1, 'selected': 1, 'demanding': 1, 'managing': 1, 'couldbeitswantstheoraclejava': 1, 'worth': 1, 'aliceisdanimationsoftwareimusingforschooltheyhavealinuxversionbutitrequiresjava': 1, 'sunjavagrep': 1, 'isitsoubuntuwillrunandbitsoftwaretogetheramiabletousebitjavapluginwithbitfirefox': 1, 'howdoiinstalljavawebstart': 1, 'presumably': 1, 'limited': 1, 'price': 1, 'lightweight': 1, 'attack': 1, 'places': 1, 'eclispe': 1, 'requested': 1, 'javahelloworldappletclass': 1, 'helpful': 1, 'javait': 1, 'usrsharedocsunjavajrereadmealternatives': 1, 'tightvncserver': 1, 'sent': 3, 'paid': 1, 'bn': 1, 'antitrust': 1, 'actions': 1, 'ms': 2, 'rely': 1, 'vim': 1, 'ftw': 1, 'thelatestsunjavatheresproerlysomeppasforitivenotfoundmanythingsthatdontworkwiththejavainthepartnersrepoortheicedteajavaversionsnotfoundanyactually': 1, 'trash': 2, 'improve': 1, 'alh': 1, 'optjavaplugininslibjavapluginojiso': 1, 'httpswikiubuntucomfirefoxamdflashjavahighlightflash': 1, 'icetea': 1, 'ifyouwantsunjavayouwillhavetoenablethepartnerrepositoriesandinstallsunjavathenremoveicedtea': 1, 'orgapachelogjlayout': 1, 'memoty': 1, 'model': 1, 'lead': 1, 'ijetgetagrayboxwherethejavaappletshouldberunning': 1, 'js': 2, 'isolate': 1, 'messy': 1, 'unfortunatelythereisabuginthepreferredicedteajavastackonamdthaticannottrackdownsointhemeantimeiaddedanenvironmentvariablethatcanoverridethejvmselection': 1, 'sets': 2, 'somejavaoptionmlookslikeamemorysizeorbuffer': 1, 'usrlibjvmjavasunjrelibi': 1, 'nobadsyouhelpedearlieronjavaitsappreciated': 1, 'simpler': 1, 'httplistsdebianorgdebianjavamsghtml': 1, 'provoded': 1, 'reallydidnotknowthatjavabasedareyoukidding': 1, 'seveasubuntulinuxnl': 2, 'forbidden': 1, 'eg': 1, 'httpseveasubuntulinuxnlpooljavasunjreupdateideb': 1, 'fair': 1, 'eating': 1, 'hogs': 1, 'rich': 2, 'msgubotujavaworksalso': 1, 'chromiums': 1, 'fx': 1, 'pure': 1, 'seveas': 1, 'ack': 1, 'holy': 1, 'wotn': 1, 'unfuck': 1, 'iwannalastamonthleastsbutfirstineedjavaandicnalivecuzmusicismylife': 1, 'modern': 1, 'grandmother': 1, 'happy': 2, 'state': 1, 'light': 1, 'javacommonsunjavabin': 1, 'makesureyouaddthejavarepo': 1, 'aside': 1, 'perljava': 1, 'caniknowtheserverofthejavachannel': 1, 'seriously': 1, 'feel': 1, 'attempt': 1, 'usrlibjvmjavasunbinjava': 1, 'etcetcfilenamejnlp': 1, 'tat': 1, 'tryiung': 1, 'jdownloader': 1, 'consider': 1, 'rude': 1, 'vlc': 1, 'authentication': 1, 'jumps': 1, 'avoids': 1, 'xhtml': 1, 'didjavaworkwhenudiditwithuruserbashrc': 1, 'ee': 1, 'netbean': 1, 'excellent': 1, 'saw': 2, 'languages': 3, 'usrlibflashpluginnonfree': 1, 'libflashplayerso': 1, 'usrlibmozillaplugins': 1, 'uou': 1, 'youwantsunjavasomthingorother': 1, 'hahaandgoodriddanceanythingcodedinjavashouldbedirectedtodevnull': 1, 'portaudio': 1, 'javaversionwilloutputtheversionubuntuisusing': 1, 'sick': 1, 'grinding': 1, 'halt': 1, 'fjrame': 1, 'xorg': 1, 'fire': 1, 'adjust': 1, 'shame': 1, 'sudoaptgetinstallsunjavaplugin': 1, 'icedpluginand': 1, 'gmoteserversh': 1, 'strong': 1, 'suit': 1, 'kern': 1, 'andsetyourpathtothedirectorywerejavacislocated': 1, 'invite': 1, 'registration': 1, 'thes': 1, 'thatshouldproperlyinstalljavathenyoushouldhavemoreluckwitheclipse': 1, 'gtkg': 1, 'fonts': 1, 'aye': 1, 'thick': 1, 'follows': 1, 'vendor': 1, 'microsystems': 1, 'inc': 1, 'architecture': 1, 'looksdifferentwithsunjavainstalledbytheway': 1, 'handy': 2, 'especially': 2, 'flowpaintjar': 1, 'mmk': 1, 'ultimately': 1, 'diablominer': 1, 'gpus': 1, 'pitfa': 1, 'hm': 1, 'powerful': 1, 'depending': 2, 'baffled': 1, 'autoupdate': 1, 'instaleed': 1, 'dosnt': 1, 'stuffjar': 1, 'nowstopblamingjava': 1, 'scenes': 1, 'fits': 1, 'style': 1, 'certine': 1, 'mixture': 1, 'javascrips': 1, 'jscript': 1, 'iijava': 1, 'sunjavaplugins': 2, 'ahthenthatwasanubuntuextensiontofirefoxinstalledsunjavapluginforyoujusthaditdothatformozillamplayertodaysuprisedtheheckoutofme': 1, 'syslog': 1, 'mint': 1, 'flavor': 1, 'httpjavasuncomjavaeedocstutorialdoc': 1, 'idoalotofjavaandalotofthreadsbeajbossetcsothatisgoodonadualcoreorbad': 1, 'asdfjava': 1, 'win': 1, 'yeahgottauninstallsunjavafirstineedforanotherthing': 1, 'whatjavaappareyourunningazureuslimefrostwire': 1, 'thisiswhatigetonafakerootofsunsjavabininstallsfxerrorwhileloadingsharedlibrarieslibfakerootsocannotopensharedobjectfilenosuchfileordirectory': 1, 'spidermonkey': 1, 'httpmartinfowlercomblikidebianjavahtml': 1, 'chagrins': 1, 'cl': 1, 'httpandroiderblogspotcomhowtoinstallsunjavajdkonubuntuhtml': 1, 'yesasfarasiknoworyoucanuseblackdownjavawhichhasabitpluuginbutitissomethinglikejava': 1, 'nspluginwrapper': 1, 'alike': 1, 'wildcard': 1, 'etcdefaulttomcat': 1, 'yesno': 1, 'gnujavaawtpeergtkgtktoolkit': 1, 'webcams': 1, 'librelaxngdatatypejava': 1, 'congratsyou': 1, 'azurus': 1, 'unpacked': 1, 'loginpages': 1, 'pstree': 1, 'weirdanyotherjavarelatedpluginsactiveinfirefox': 1, 'created': 1, 'poor': 1, 'nvidia': 2, 'ease': 1, 'binbash': 1, 'briefly': 1, 'moved': 1, 'cake': 1, 'nobody': 1, 'porpouse': 1, 'area': 1, 'animation': 1, 'interactive': 2, 'thereisnosunjavajreonmysynaptic': 1, 'rare': 1, 'yearit': 1, 'three': 1, 'httpwwwgiannarosorgpublichoarydebs': 1, 'trythislinkandmanuallyinstallhttpdlgetdropboxcomucacertificatesjavaalldeb': 1, 'jrejdk': 1, 'etclighttpdconfenabledjavascriptaliasconf': 1, 'conversations': 1, 'crossed': 1, 'volume': 1, 'specified': 1, 'poorly': 1, 'behaved': 1, 'seriouslydo': 1, 'javahomejavahomeusrlibjvmjavaoraclejrebinjava': 1, 'ides': 1, 'javalangunsatisfiedlinkerror': 1, 'swtpigtk': 1, 'javalibrarypath': 1, 'buff': 1, 'front': 1, 'evolved': 1, 'offset': 1, 'emca': 1, 'funning': 1, 'usre': 1, 'idontknowaboutthatoneiinstallthejavawiththathowtoandisprettysimpletofollow': 1, 'untill': 1, 'isthereadebforjava': 1, 'simlink': 1, 'annoyingly': 1, 'sane': 1, 'media': 1, 'src': 1, 'usrbingijwrapper': 1, 'small': 1, 'efficient': 1, 'happily': 1, 'turtlegraphicsstandardpen': 1, 'juniper': 1, 'httpstefonwordpresscomazureusproblem': 1, 'envoke': 1, 'gtkgnutella': 2, 'functionally': 2, 'equuivalanet': 1, 'detect': 1, 'thaen': 1, 'sotheinstructionsonthewebpagehttpshelpubuntucomcommunityamdfirefoxandpluginsactionshowandredirectfirefoxamdflashjavaarenotcorrectforaamdinstallofubuntustudio': 1, 'cron': 1, 'butiveonlyinstalledsunjava': 1, 'javahomepathtoyourjavajdk': 1, 'spice': 1, 'developed': 1, 'decided': 1, 'incorporate': 1, 'httpenwikipediaorgwikichromiumwebbrowser': 1, 'farbut': 1, 'imagine': 1, 'pointi': 1, 'thot': 1, 'steps': 1, 'msttcorefonts': 1, 'howtorunthismcpatcherwithjava': 1, 'someappsrequirethesunjava': 1, 'kitchen': 1, 'sink': 1, 'eclipsejdk': 1, 'usrlibjresunplugininslibjavapluginojiso': 1, 'haha': 1, 'usrsharejava': 1, 'sunjavaplugnbin': 1, 'patches': 1, 'cherrypicked': 1, 'clicked': 1, 'expectedly': 1, 'httpftpdebianorgdebianpoolcontribjjavapackage': 1, 'item': 1, 'yo': 1, 'uhave': 1, 'register': 1, 'nick': 1, 'dunnobutwhatyouwantwillajavaquestionmaybetryonanothernetworkefnetordalnet': 1, 'myjavacanbeaccessedthroughsystempreferences': 1, 'newerfromhttpwwwjavacomlscannotaccessoptjnosuchfileordirectoryoopsunabletolocatejavaexecinopthierarchyyouneedtoupgradetojrexornewerfromhttpwwwjavacom': 1, 'andor': 1, 'bluej': 1, 'refertothesunsjavasiteeverythingisclearlyexplained': 1, 'ramz': 1, 'httpjavasuncom': 2, 'whatisbestjavapluginshouldiinstallisitthegcjwebbrowserpluginopenjavajdkorthethenormalgcjwebbrowserty': 1, 'damnit': 1, 'shouldjavainstallviasynapticpackagemanager': 1, 'easyubuntu': 2, 'officially': 1, 'certified': 1, 'yeha': 1, 'comfortable': 1, 'diff': 1, 'stil': 1, 'orpossiblyjavaclasswithjava': 1, 'idonotneedtouseanyscriptsatthemomentimjusttryingtoupgrademyjava': 1, 'firfox': 1, 'implemention': 1, 'isntall': 1, 'lookup': 1, 'whichjavaversionareyouusing': 1, 'experiencing': 1, 'altogether': 1, 'cananyonehelpmeinstaljavaintomywebbrowserinubuntu': 1, 'topic': 1, 'restared': 1, 'username': 1, 'untheinstalleritstillnotworkingutubekeepstellingmethatmyjavascriptisturnedofforineedanupgradeflashplayermyjavasciptisenableandihavedownloadadobeortimesandstillnothingcansomeonehelpmethenwastoldtogotoaboutpluginsanddidandthisisthewhatthepagesayshttppastebincommab': 1, 'creditgoestoseveasforjavadownloadthebinfilefromjavasuncomaptgetinstalljavapackagechmodxthebinfilemakejpkgthebinfiledpkgithegenerateddebfile': 1, 'includers': 1, 'compilers': 1, 'jrelinuxamdbin': 1, 'blackhawk': 1, 'cover': 1, 'flaky': 1, 'youc': 1, 'etceclipsejavahome': 1, 'lika': 1, 'yesiveinstalledthatoneandsunjava': 1, 'httpplugindocmozdevorgfaqsjavahtmllinux': 1, 'blue': 1, 'httpsitesgooglecomsitealucidfshowidojava': 1, 'author': 1, 'handled': 1, 'jdsk': 1, 'aptgetinstalljavasunthenjavawhateverjar': 1, 'compressed': 1, 'technology': 1, 'searh': 1, 'regular': 1, 'torrents': 1, 'ang': 1, 'green': 1, 'xmx': 1, 'stuffs': 2, 'limewires': 1, 'lynuxapachemysqlphp': 1, 'party': 1, 'httpjavasuncomjseinstalllinuxhtml': 1, 'logmein': 1, 'httpwikiubuntucomjava': 1, 'ohyeahandinstallsunjavajre': 1, 'resource': 1, 'abuse': 1, 'procedural': 1, 'skills': 1, 'ubunturestrictedpackages': 1, 'ended': 1, 'doesgentoocountcauseirunitfinethereonmyworkstationatworksunsjavaworksgreatonit': 1, 'haelp': 1, 'prefs': 1, 'thepackageissunjavabin': 1, 'iamtryingtogetrunescapetoworkbutitkeepstellingmeineedtoinstalljavaihavejavainstalled': 1, 'updatesalternatives': 1, 'generally': 1, 'javaproblems': 1, 'hollala': 1, 'forjavadownloadthebinfilefromjavasuncomaptgetinstalljavapackagechmodxthebinfilemakejpkgthebinfiledpkgithegenerateddebfile': 3, 'critical': 1, 'looke': 1, 'httpswikiubuntucomjavaamd': 1, 'myself': 1, 'ncurses': 1, 'iusedittoinstalljava': 1, 'httpssitesgooglecomsiteeasylinuxtipsprojectjava': 1, 'ooo': 1, 'crippled': 1, 'wo': 1, 'suniracle': 1, 'thanksfortherepliesbutthejavainthereposisnotthelatestversions': 1, 'yupiknowbutthereisanappletthatiwanttousethatworkswithjavaitdoesnotappeartoworkwith': 1, 'covers': 1, 'dot': 1, 'com': 1, 'usrlocalbin': 1, 'archieve': 1, 'sorta': 1, 'speaking': 1, 'editorcompiler': 1, 'chk': 1, 'brings': 1, 'httpbeeznestwordpresscomhowtoinstallsunsjavaonubuntulucidlynx': 1, 'itriedinstallingbutforsomereasonwhenidojavaversionitsaysitis': 1, 'iwasguessingoverfivesecondsaboutwhatcoolnewjavafeatureyoumighttalk': 1, 'javapackge': 1, 'maybeucandwjavabinurself': 1, 'javaruntimeenvironment': 1, 'msgubotujavadebs': 1, 'httpjavasuncomjavasedocsapi': 1, 'howcaniinstalljavaor': 1, 'master': 1, 'httpwwwubuntulinuxorgwikijavaviewsearchtermjava': 1, 'javaappletinmybrowser': 1, 'javacoms': 1, 'helping': 1, 'recognize': 2, 'debfiles': 1, 'recognise': 1, 'couse': 1, 'equivalent': 1, 'sunjavajdkisinmultiverse': 1, 'sunjsdk': 1, 'ubuntuextras': 1, 'cantyouallowfirefoxtoinstalljavawhenyoustumbleacrossajavasitelikeyoutube': 1, 'httppackagesubuntucomjauntyiasunjavabin': 1, 'hardly': 1, 'cross': 1, 'designer': 1, 'thatll': 1, 'libgc': 1, 'gpld': 1, 'nov': 1, 'corretly': 1, 'worse': 1, 'i´d': 1, 'it´s': 1, 'youneedthejavapluginalso': 1, 'itissunjavaplugin': 1, 'inormallyinstalltheubunturestrictedextraspackagethatgrabsjavaandotherthingsyoumaywant': 1, 'narayana': 1, 'continues': 1, 'clientside': 1, 'webchatfreenodenet': 1, 'serverside': 1, 'tryinstallingjavathen': 1, 'yipe': 1, 'klined': 1, 'widest': 1, 'trythissudoupdatealternativesconfigjavaandchoocetherightversion': 1, 'nicely': 1, 'iwouldnotknowimnotajavaprogrammer': 1, 'javahomewhatevers': 1, 'appropriate': 1, 'cansomeonegivemeanswertoquestioniknowintermediatecandjavacanihelpubuntuteam': 1, 'doyouhaveajavaplugininstalledatallforff': 1, 'bugzillawiki': 1, 'pathtoblahjar': 1, 'didyoufollowtheseinstructionshttpshelpubuntucomcommunityjavaoraclesunjava': 1, 'forjavadownloadthebinfilefromjavasuncomaptgetinstalljavapackagechmodxthebinfilefakerootmakejpkgthebinfiledpkgithegenerateddebfile': 1, 'rocks': 1, 'pleaseaptget': 1, 'implementation': 1, 'yourprogram': 1, 'htmljavaphp': 1, 'ahs': 1, 'httpwwwubuntugeekcomsunjavapackagesgotnewppanewforubuntuhtmlutmsourcerssandutmmediumrssandutmcampaignsunjavapackagesgotnewppanewforubuntu': 1, 'appletsjava': 1, 'sevaes': 1, 'wwwubuntulinuxorgwikijava': 1, 'wt': 1, 'concerned': 1, 'iveonlyheardofyellowdogsjavasdkforppc': 1, 'youcaninstallgccorthesunjavatoolsorsomeoftheotherjavapackages': 1, 'thisisubuntuakagnulinuxoperatingsystemnotjava': 1, 'faq': 1, 'autocomplete': 1, 'javalangclassnotfoundexception': 1, 'slows': 1}\n"
     ]
    }
   ],
   "source": [
    "print(word2count)"
   ]
  },
  {
   "cell_type": "code",
   "execution_count": 0,
   "metadata": {
    "colab": {},
    "colab_type": "code",
    "id": "aW402C5AzOKL"
   },
   "outputs": [],
   "source": [
    "# Dictionaries that map questions words and answers words to a unique integer\n",
    "\n",
    "threshold = 0\n",
    "questionswords2int = {}\n",
    "word_number = 0\n",
    "for word, count in word2count.items():\n",
    "  if count >= threshold:\n",
    "    questionswords2int[word] = word_number\n",
    "    word_number += 1\n",
    "answerswords2int = {}\n",
    "word_number = 0\n",
    "for word, count in word2count.items():\n",
    "  if count>= threshold:\n",
    "    answerswords2int[word] = word_number\n",
    "    word_number += 1"
   ]
  },
  {
   "cell_type": "code",
   "execution_count": 20,
   "metadata": {
    "colab": {
     "base_uri": "https://localhost:8080/",
     "height": 34
    },
    "colab_type": "code",
    "executionInfo": {
     "elapsed": 134931,
     "status": "ok",
     "timestamp": 1554712323488,
     "user": {
      "displayName": "Darshan Kakwani",
      "photoUrl": "",
      "userId": "06813604131485796128"
     },
     "user_tz": -330
    },
    "id": "UQ4JWjWx2A-Q",
    "outputId": "de2f02d1-c95a-4c76-eca2-0789a8db7f23"
   },
   "outputs": [
    {
     "name": "stdout",
     "output_type": "stream",
     "text": [
      "42\n"
     ]
    }
   ],
   "source": [
    "print(questionswords2int['not'])"
   ]
  },
  {
   "cell_type": "code",
   "execution_count": 0,
   "metadata": {
    "colab": {},
    "colab_type": "code",
    "id": "2-Z_G9Yx2G6L"
   },
   "outputs": [],
   "source": [
    "# Adding tokens\n",
    "\n",
    "tokens = ['<PAD>', '<EOS>', '<OUT>', '<SOS>']\n",
    "for token in tokens:\n",
    "  questionswords2int[token] = len(questionswords2int) + 1\n",
    "for token in tokens:\n",
    "  answerswords2int[token] = len(answerswords2int) + 1"
   ]
  },
  {
   "cell_type": "code",
   "execution_count": 0,
   "metadata": {
    "colab": {},
    "colab_type": "code",
    "id": "xHD9_JC6-mlW"
   },
   "outputs": [],
   "source": [
    "# Inverse dictionary of answerswords2int\n",
    "\n",
    "answersints2word = {w_i: w for w, w_i in answerswords2int.items()}"
   ]
  },
  {
   "cell_type": "code",
   "execution_count": 0,
   "metadata": {
    "colab": {},
    "colab_type": "code",
    "id": "Lsz7HKRt_4SZ"
   },
   "outputs": [],
   "source": [
    "# Adding <EOS> token\n",
    "\n",
    "for i in range(len(clean_answers)):\n",
    "  clean_answers[i] += ' <EOS>'"
   ]
  },
  {
   "cell_type": "code",
   "execution_count": 24,
   "metadata": {
    "colab": {
     "base_uri": "https://localhost:8080/",
     "height": 54
    },
    "colab_type": "code",
    "executionInfo": {
     "elapsed": 134848,
     "status": "ok",
     "timestamp": 1554712323498,
     "user": {
      "displayName": "Darshan Kakwani",
      "photoUrl": "",
      "userId": "06813604131485796128"
     },
     "user_tz": -330
    },
    "id": "C5UEFqKBBEV9",
    "outputId": "7a748be1-1f59-441e-9789-70d5d6cd59fc"
   },
   "outputs": [
    {
     "name": "stdout",
     "output_type": "stream",
     "text": [
      "['java <EOS>', 'java loads much faster <EOS>', 'thanks ill try that screwed up and tried to upgrade firefoxjava on my own now java takes real long time to load <EOS>', 'islatestibmjava <EOS>', 'do you have jsecommon installed in ubuntu as well is ibms java <EOS>']\n"
     ]
    }
   ],
   "source": [
    "print(clean_answers[:5])"
   ]
  },
  {
   "cell_type": "code",
   "execution_count": 0,
   "metadata": {
    "colab": {},
    "colab_type": "code",
    "id": "YcRg7Hf-BL5l"
   },
   "outputs": [],
   "source": [
    "# Translating all the questions and answers into integers\n",
    "# Replacing all the words that were filtered out by <OUT> token\n",
    "\n",
    "questions_into_int = []\n",
    "for question in clean_questions:\n",
    "  ints = []\n",
    "  for word in question.split():\n",
    "    if word not in questionswords2int:\n",
    "      ints.append(questionswords2int['<OUT>'])\n",
    "    else:\n",
    "      ints.append(questionswords2int[word])\n",
    "  questions_into_int.append(ints)\n",
    "answers_into_int = []\n",
    "for answer in clean_answers:\n",
    "  ints = []\n",
    "  for word in answer.split():\n",
    "    if word not in answerswords2int:\n",
    "      ints.append(answerswords2int['<OUT>'])\n",
    "    else:\n",
    "      ints.append(answerswords2int[word])\n",
    "  answers_into_int.append(ints)"
   ]
  },
  {
   "cell_type": "code",
   "execution_count": 26,
   "metadata": {
    "colab": {
     "base_uri": "https://localhost:8080/",
     "height": 34
    },
    "colab_type": "code",
    "executionInfo": {
     "elapsed": 134785,
     "status": "ok",
     "timestamp": 1554712323501,
     "user": {
      "displayName": "Darshan Kakwani",
      "photoUrl": "",
      "userId": "06813604131485796128"
     },
     "user_tz": -330
    },
    "id": "Q9G-uXwlEBdu",
    "outputId": "1c05be08-77ec-4108-b0f5-74c67e9c2d3d"
   },
   "outputs": [
    {
     "name": "stdout",
     "output_type": "stream",
     "text": [
      "[[0, 1, 2, 3, 4, 5, 6, 7, 8, 9], [3]]\n"
     ]
    }
   ],
   "source": [
    "print(questions_into_int[:2])"
   ]
  },
  {
   "cell_type": "code",
   "execution_count": 0,
   "metadata": {
    "colab": {},
    "colab_type": "code",
    "id": "zB6tICQ0EODZ"
   },
   "outputs": [],
   "source": [
    "# Sorting questions and answers by the length of the questions\n",
    "\n",
    "sorted_clean_questions = []\n",
    "sorted_clean_asnwers = []\n",
    "for length in range(1, 26):\n",
    "  for i in enumerate(questions_into_int):\n",
    "    if len(i[1]) == length:\n",
    "      sorted_clean_questions.append(questions_into_int[i[0]])\n",
    "      sorted_clean_asnwers.append(answers_into_int[i[0]])"
   ]
  },
  {
   "cell_type": "code",
   "execution_count": 28,
   "metadata": {
    "colab": {
     "base_uri": "https://localhost:8080/",
     "height": 34
    },
    "colab_type": "code",
    "executionInfo": {
     "elapsed": 134754,
     "status": "ok",
     "timestamp": 1554712323507,
     "user": {
      "displayName": "Darshan Kakwani",
      "photoUrl": "",
      "userId": "06813604131485796128"
     },
     "user_tz": -330
    },
    "id": "2PPcdm-AGySQ",
    "outputId": "7d4d4b65-8a46-4b73-b003-2c7fda9ad1e7"
   },
   "outputs": [
    {
     "name": "stdout",
     "output_type": "stream",
     "text": [
      "[[3], [29], [59], [138], [142]]\n"
     ]
    }
   ],
   "source": [
    "print(sorted_clean_questions[:5])"
   ]
  },
  {
   "cell_type": "code",
   "execution_count": 0,
   "metadata": {
    "colab": {},
    "colab_type": "code",
    "id": "_aA_SZkMG8gj"
   },
   "outputs": [],
   "source": [
    "# Creating placeholders for inputs and targets\n",
    "\n",
    "def model_inputs():\n",
    "  inputs = tf.placeholder(tf.int32, [None, None], name = 'input')\n",
    "  targets = tf.placeholder(tf.int32, [None, None], name = 'target')\n",
    "  lr = tf.placeholder(tf.float32, name = 'learning_rate')\n",
    "  keep_prob = tf.placeholder(tf.float32, name = 'keep_prob')\n",
    "  return inputs, targets, lr, keep_prob"
   ]
  },
  {
   "cell_type": "code",
   "execution_count": 0,
   "metadata": {
    "colab": {},
    "colab_type": "code",
    "id": "zkMiV20cJLwn"
   },
   "outputs": [],
   "source": [
    "# Pre-processing the targets\n",
    "\n",
    "def preprocess_targets(targets, word2int, batch_size):\n",
    "  left_side = tf.fill([batch_size, 1], word2int['<SOS>'])\n",
    "  right_side = tf.strided_slice(targets, [0, 0], [batch_size, -1], [1, 1])\n",
    "  preprocessed_targets = tf.concat([left_side, right_side], 1)\n",
    "  return preprocessed_targets"
   ]
  },
  {
   "cell_type": "code",
   "execution_count": 0,
   "metadata": {
    "colab": {},
    "colab_type": "code",
    "id": "09BddwdqMbSU"
   },
   "outputs": [],
   "source": [
    "# Creating Encoder RNN Layer\n",
    "\n",
    "def encoder_rnn(rnn_inputs, rnn_size, num_layers, keep_prob, sequence_length):\n",
    "  lstm = tf.contrib.rnn.BasicLSTMCell(rnn_size)\n",
    "  lstm_dropout = tf.contrib.rnn.DropoutWrapper(lstm, input_keep_prob = keep_prob)\n",
    "  encoder_cell = tf.contrib.rnn.MultiRNNCell([lstm_dropout] * num_layers)\n",
    "  _, encoder_state = tf.nn.bidirectional_dynamic_rnn(cell_fw = encoder_cell,\n",
    "                                                     cell_bw = encoder_cell,\n",
    "                                                     sequence_length = sequence_length,\n",
    "                                                     inputs = rnn_inputs,\n",
    "                                                     dtype = tf.float32)\n",
    "  return encoder_state"
   ]
  },
  {
   "cell_type": "code",
   "execution_count": 0,
   "metadata": {
    "colab": {},
    "colab_type": "code",
    "id": "XACNNvucN5b0"
   },
   "outputs": [],
   "source": [
    "# Decoding the training set\n",
    "\n",
    "def decode_training_set(encoder_state, decoder_cell, decoder_embedded_input, sequence_length, decoding_scope, output_function, keep_prob, batch_size):\n",
    "  attention_states = tf.zeros([batch_size, 1, decoder_cell.output_size])\n",
    "  attention_keys, attention_values, attention_score_function, attention_construct_function = tf.contrib.seq2seq.prepare_attention(attention_states,\n",
    "                                                                                                                                  attention_option = 'bahdanau',\n",
    "                                                                                                                                  num_units = decoder_cell.output_size)\n",
    "  training_decoder_function = tf.contrib.seq2seq.attention_decoder_fn_train(encoder_state[0],\n",
    "                                                                            attention_keys,\n",
    "                                                                            attention_values,\n",
    "                                                                            attention_score_function,\n",
    "                                                                            attention_construct_function,\n",
    "                                                                            name = \"attn_dec_train\")\n",
    "  decoder_output, _, _ = tf.contrib.seq2seq.dynamic_rnn_decoder(decoder_cell,\n",
    "                                                                training_decoder_function,\n",
    "                                                                decoder_embedded_input,\n",
    "                                                                sequence_length,\n",
    "                                                                scope = decoding_scope)\n",
    "  decoder_output_dropout = tf.nn.dropout(decoder_output, keep_prob)\n",
    "  return output_function(decoder_output_dropout)"
   ]
  },
  {
   "cell_type": "code",
   "execution_count": 0,
   "metadata": {
    "colab": {},
    "colab_type": "code",
    "id": "beVuzJ_ARWBD"
   },
   "outputs": [],
   "source": [
    "# Decoding the test/validaiton set\n",
    "\n",
    "def decode_test_set(encoder_state, decoder_cell, decoder_embeddings_matrix, sos_id, eos_id, maximum_length, num_words, decoding_scope, output_function, keep_prob, batch_size):\n",
    "  attention_states = tf.zeros([batch_size, 1, decoder_cell.output_size])\n",
    "  attention_keys, attention_values, attention_score_function, attention_construct_function = tf.contrib.seq2seq.prepare_attention(attention_states,\n",
    "                                                                                                                                  attention_option = 'bahdanau',\n",
    "                                                                                                                                  num_units = decoder_cell.output_size)\n",
    "  test_decoder_function = tf.contrib.seq2seq.attention_decoder_fn_inference(output_function,\n",
    "                                                                            encoder_state[0],\n",
    "                                                                            attention_keys,\n",
    "                                                                            attention_values,\n",
    "                                                                            attention_score_function,\n",
    "                                                                            attention_construct_function,\n",
    "                                                                            decoder_embeddings_matrix, \n",
    "                                                                            sos_id, \n",
    "                                                                            eos_id, \n",
    "                                                                            maximum_length,\n",
    "                                                                            num_words,\n",
    "                                                                            name = \"attn_dec_inf\")\n",
    "  test_predictions, _, _ = tf.contrib.seq2seq.dynamic_rnn_decoder(decoder_cell,\n",
    "                                                                  test_decoder_function,\n",
    "                                                                  scope = decoding_scope)\n",
    "  return test_predictions"
   ]
  },
  {
   "cell_type": "code",
   "execution_count": 0,
   "metadata": {
    "colab": {},
    "colab_type": "code",
    "id": "7WZYnJdiUeF_"
   },
   "outputs": [],
   "source": [
    "# Creating the Decoder RNN\n",
    "\n",
    "def decoder_rnn(decoder_embedded_input, decoder_embeddings_matrix, encoder_state, num_words, sequence_length, rnn_size, num_layers, word2int, keep_prob, batch_size):\n",
    "  with tf.variable_scope(\"decoding\") as decoding_scope:\n",
    "    lstm = tf.contrib.rnn.BasicLSTMCell(rnn_size)\n",
    "    lstm_dropout = tf.contrib.rnn.DropoutWrapper(lstm, input_keep_prob = keep_prob)\n",
    "    decoder_cell = tf.contrib.rnn.MultiRNNCell([lstm_dropout] * num_layers)\n",
    "    weights = tf.truncated_normal_initializer(stddev = 0.1)\n",
    "    biases = tf.zeros_initializer()\n",
    "    output_function = lambda x: tf.contrib.layers.fully_connected(x,\n",
    "                                                                  num_words,\n",
    "                                                                  None,\n",
    "                                                                  scope = decoding_scope,\n",
    "                                                                  weights_initializer = weights,\n",
    "                                                                  biases_initializer = biases)\n",
    "    training_predictions = decode_training_set(encoder_state,\n",
    "                                               decoder_cell,\n",
    "                                               decoder_embedded_input,\n",
    "                                               sequence_length,\n",
    "                                               decoding_scope,\n",
    "                                               output_function,\n",
    "                                               keep_prob,\n",
    "                                               batch_size)\n",
    "    decoding_scope.reuse_variables()\n",
    "    test_predictions = decode_test_set(encoder_state,\n",
    "                                       decoder_cell,\n",
    "                                       decoder_embeddings_matrix,\n",
    "                                       word2int['<SOS>'],\n",
    "                                       word2int['<EOS>'],\n",
    "                                       sequence_length - 1,\n",
    "                                       num_words,\n",
    "                                       decoding_scope,\n",
    "                                       output_function,\n",
    "                                       keep_prob,\n",
    "                                       batch_size)\n",
    "  return training_predictions, test_predictions"
   ]
  },
  {
   "cell_type": "code",
   "execution_count": 0,
   "metadata": {
    "colab": {},
    "colab_type": "code",
    "id": "pj2BssGfXSdw"
   },
   "outputs": [],
   "source": [
    "# Building the seq2seq model\n",
    "\n",
    "def seq2seq_model(inputs, targets, keep_prob, batch_size, sequence_length, answers_num_words, questions_num_words, encoder_embedding_size, decoder_embedding_size, rnn_size, num_layers, questionswords2int):\n",
    "  encoder_embedded_input = tf.contrib.layers.embed_sequence(inputs,\n",
    "                                                            answers_num_words + 1,\n",
    "                                                            encoder_embedding_size,\n",
    "                                                            initializer = tf.random_uniform_initializer(0, 1))\n",
    "  encoder_state = encoder_rnn(encoder_embedded_input,\n",
    "                              rnn_size,\n",
    "                              num_layers,\n",
    "                              keep_prob,\n",
    "                              sequence_length)\n",
    "  preprocessed_targets = preprocess_targets(targets, \n",
    "                                            questionswords2int, \n",
    "                                            batch_size)\n",
    "  decoder_embeddings_matrix = tf.Variable(tf.random_uniform([questions_num_words + 1, decoder_embedding_size], 0, 1))\n",
    "  decoder_embedded_input = tf.nn.embedding_lookup(decoder_embeddings_matrix,\n",
    "                                                  preprocessed_targets)\n",
    "  training_predictions, test_predictions = decoder_rnn(decoder_embedded_input,\n",
    "                                                       decoder_embeddings_matrix, \n",
    "                                                       encoder_state,\n",
    "                                                       questions_num_words,\n",
    "                                                       sequence_length,\n",
    "                                                       rnn_size,\n",
    "                                                       num_layers,\n",
    "                                                       questionswords2int,\n",
    "                                                       keep_prob,\n",
    "                                                       batch_size)\n",
    "  return training_predictions, test_predictions"
   ]
  },
  {
   "cell_type": "code",
   "execution_count": 0,
   "metadata": {
    "colab": {},
    "colab_type": "code",
    "id": "zqAQvyr9aY_I"
   },
   "outputs": [],
   "source": [
    "# Setting the Hyperparameters\n",
    "\n",
    "epochs = 50 # default: 100\n",
    "batch_size = 64 # default: 64\n",
    "rnn_size = 256 # decrease to prevent overfitting dafault: 512\n",
    "num_layers = 3 # decrease to prevent overfitting dafault: 3\n",
    "encoding_embedding_size = 512\n",
    "decoding_embedding_size = 512\n",
    "learning_rate = 0.01\n",
    "learning_rate_decay = 0.9\n",
    "min_learning_rate = 0.0001\n",
    "keep_probability = 0.5 # default: 0.5"
   ]
  },
  {
   "cell_type": "code",
   "execution_count": 0,
   "metadata": {
    "colab": {},
    "colab_type": "code",
    "id": "WgN80_VHbB08"
   },
   "outputs": [],
   "source": [
    "# Defining a Session\n",
    "\n",
    "tf.reset_default_graph()\n",
    "session = tf.InteractiveSession()"
   ]
  },
  {
   "cell_type": "code",
   "execution_count": 0,
   "metadata": {
    "colab": {},
    "colab_type": "code",
    "id": "5MhhHfaubPVL"
   },
   "outputs": [],
   "source": [
    "# Loading the model inputs\n",
    "\n",
    "inputs, targets, lr, keep_prob = model_inputs()"
   ]
  },
  {
   "cell_type": "code",
   "execution_count": 0,
   "metadata": {
    "colab": {},
    "colab_type": "code",
    "id": "whCj_4srbZIa"
   },
   "outputs": [],
   "source": [
    "# Setting the sequence length\n",
    "\n",
    "sequence_length = tf.placeholder_with_default(25, None, name = 'sequence_length')"
   ]
  },
  {
   "cell_type": "code",
   "execution_count": 0,
   "metadata": {
    "colab": {},
    "colab_type": "code",
    "id": "z9TgREixbxQs"
   },
   "outputs": [],
   "source": [
    "# Getting the shape of input tensor\n",
    "\n",
    "input_shape = tf.shape(inputs)"
   ]
  },
  {
   "cell_type": "code",
   "execution_count": 0,
   "metadata": {
    "colab": {},
    "colab_type": "code",
    "id": "7aU-hEl0b9La"
   },
   "outputs": [],
   "source": [
    "# Getting the training and test predictions\n",
    "\n",
    "training_predictions, test_predictions = seq2seq_model(tf.reverse(inputs, [-1]),\n",
    "                                                       targets,\n",
    "                                                       keep_prob,\n",
    "                                                       batch_size,\n",
    "                                                       sequence_length,\n",
    "                                                       len(answerswords2int),\n",
    "                                                       len(questionswords2int),\n",
    "                                                       encoding_embedding_size,\n",
    "                                                       decoding_embedding_size,\n",
    "                                                       rnn_size,\n",
    "                                                       num_layers,\n",
    "                                                       questionswords2int)"
   ]
  },
  {
   "cell_type": "code",
   "execution_count": 0,
   "metadata": {
    "colab": {},
    "colab_type": "code",
    "id": "5QKlOVxS-eeH"
   },
   "outputs": [],
   "source": [
    "# Setting up the Loss Error, the Optimizer and Gradient Clipping\n",
    "\n",
    "with tf.name_scope(\"optimization\"):\n",
    "  loss_error = tf.contrib.seq2seq.sequence_loss(training_predictions, \n",
    "                                                targets,\n",
    "                                                tf.ones([input_shape[0], sequence_length]))\n",
    "  optimizer = tf.train.AdamOptimizer(learning_rate)\n",
    "  gradients = optimizer.compute_gradients(loss_error)\n",
    "  clipped_gradients = [(tf.clip_by_value(grad_tensor, -5., 5.), grad_variable) for grad_tensor, grad_variable in gradients if grad_tensor is not None]\n",
    "  optimizer_gradient_clipping = optimizer.apply_gradients(clipped_gradients)"
   ]
  },
  {
   "cell_type": "code",
   "execution_count": 0,
   "metadata": {
    "colab": {},
    "colab_type": "code",
    "id": "VTxlEEmLBDRc"
   },
   "outputs": [],
   "source": [
    "# Padding sequences with <PAD> token\n",
    "\n",
    "# max_sequence_length = 0\n",
    "def apply_padding(batch_of_sequences, word2int):\n",
    "  global max_sequence_length\n",
    "  max_sequence_length = max([len(sequence) for sequence in batch_of_sequences])\n",
    "  return [sequence + [word2int['<PAD>']] * (max_sequence_length - len(sequence)) for sequence in batch_of_sequences]"
   ]
  },
  {
   "cell_type": "code",
   "execution_count": 0,
   "metadata": {
    "colab": {},
    "colab_type": "code",
    "id": "cLwa-aZoCfKn"
   },
   "outputs": [],
   "source": [
    "# Splitting data into batches of questions and answers\n",
    "\n",
    "def split_into_batches(questions, answers, batch_size):\n",
    "  for batch_index in range(0, len(questions) // batch_size):\n",
    "    start_index = batch_index * batch_size\n",
    "    questions_in_batch = questions[start_index : start_index + batch_size]\n",
    "    answers_in_batch = answers[start_index : start_index + batch_size]\n",
    "    padded_questions_in_batch = np.array(apply_padding(questions_in_batch, questionswords2int))\n",
    "    padded_answers_in_batch = np.array(apply_padding(answers_in_batch, answerswords2int))\n",
    "    yield padded_questions_in_batch, padded_answers_in_batch"
   ]
  },
  {
   "cell_type": "code",
   "execution_count": 0,
   "metadata": {
    "colab": {},
    "colab_type": "code",
    "id": "OQTY8gCTEMvw"
   },
   "outputs": [],
   "source": [
    "# Splitting questions and answers into training and test/validation sets\n",
    "\n",
    "training_validation_split = int(len(sorted_clean_questions) * 0.15)\n",
    "training_questions = sorted_clean_questions[training_validation_split : ]\n",
    "training_answers = sorted_clean_asnwers[training_validation_split : ]\n",
    "validation_questions = sorted_clean_questions[ : training_validation_split]\n",
    "validation_answers = sorted_clean_asnwers[ : training_validation_split]"
   ]
  },
  {
   "cell_type": "code",
   "execution_count": 0,
   "metadata": {
    "colab": {
     "base_uri": "https://localhost:8080/",
     "height": 2125
    },
    "colab_type": "code",
    "executionInfo": {
     "elapsed": 1860193,
     "status": "error",
     "timestamp": 1554018080534,
     "user": {
      "displayName": "Darshan Kakwani",
      "photoUrl": "",
      "userId": "06813604131485796128"
     },
     "user_tz": -330
    },
    "id": "z4WIMAP3FZhc",
    "outputId": "5c929188-bf9c-40ae-8d2a-044d81a659fb"
   },
   "outputs": [
    {
     "name": "stdout",
     "output_type": "stream",
     "text": [
      "Epoch:   1 / 50, Batch:    0 / 32, Training Loss Error:  0.516, Training Time on 100 Batches: 47 seconds\n",
      "Validation Loss Error:  1.412, Batch Validation Time: 7 seconds\n",
      "I speak BETTER now !!\n",
      "Epoch:   1 / 50, Batch:   16 / 32, Training Loss Error:  3.210, Training Time on 100 Batches: 128 seconds\n",
      "Validation Loss Error:  1.339, Batch Validation Time: 7 seconds\n",
      "I speak BETTER now !!\n",
      "Epoch:   2 / 50, Batch:    0 / 32, Training Loss Error:  1.843, Training Time on 100 Batches: 68 seconds\n",
      "Validation Loss Error:  1.325, Batch Validation Time: 7 seconds\n",
      "I speak BETTER now !!\n",
      "Epoch:   2 / 50, Batch:   16 / 32, Training Loss Error:  1.667, Training Time on 100 Batches: 162 seconds\n",
      "Validation Loss Error:  1.312, Batch Validation Time: 7 seconds\n",
      "I speak BETTER now !!\n",
      "Epoch:   3 / 50, Batch:    0 / 32, Training Loss Error:  1.751, Training Time on 100 Batches: 73 seconds\n",
      "Validation Loss Error:  1.327, Batch Validation Time: 7 seconds\n",
      "Sorry I do not speak better, I need to practice more .\n",
      "Epoch:   3 / 50, Batch:   16 / 32, Training Loss Error:  1.629, Training Time on 100 Batches: 171 seconds\n",
      "Validation Loss Error:  1.302, Batch Validation Time: 7 seconds\n",
      "I speak BETTER now !!\n",
      "Epoch:   4 / 50, Batch:    0 / 32, Training Loss Error:  1.719, Training Time on 100 Batches: 71 seconds\n",
      "Validation Loss Error:  1.310, Batch Validation Time: 7 seconds\n",
      "Sorry I do not speak better, I need to practice more .\n",
      "Epoch:   4 / 50, Batch:   16 / 32, Training Loss Error:  1.594, Training Time on 100 Batches: 169 seconds\n",
      "Validation Loss Error:  1.294, Batch Validation Time: 7 seconds\n",
      "I speak BETTER now !!\n",
      "Epoch:   5 / 50, Batch:    0 / 32, Training Loss Error:  1.678, Training Time on 100 Batches: 76 seconds\n",
      "Validation Loss Error:  1.297, Batch Validation Time: 7 seconds\n",
      "Sorry I do not speak better, I need to practice more .\n",
      "Epoch:   5 / 50, Batch:   16 / 32, Training Loss Error:  1.564, Training Time on 100 Batches: 179 seconds\n",
      "Validation Loss Error:  1.292, Batch Validation Time: 7 seconds\n",
      "I speak BETTER now !!\n",
      "Epoch:   6 / 50, Batch:    0 / 32, Training Loss Error:  1.648, Training Time on 100 Batches: 79 seconds\n",
      "Validation Loss Error:  1.297, Batch Validation Time: 7 seconds\n",
      "Sorry I do not speak better, I need to practice more .\n",
      "Epoch:   6 / 50, Batch:   16 / 32, Training Loss Error:  1.540, Training Time on 100 Batches: 190 seconds\n",
      "Validation Loss Error:  1.293, Batch Validation Time: 7 seconds\n",
      "Sorry I do not speak better, I need to practice more .\n",
      "Epoch:   7 / 50, Batch:    0 / 32, Training Loss Error:  1.629, Training Time on 100 Batches: 85 seconds\n",
      "Validation Loss Error:  1.290, Batch Validation Time: 7 seconds\n",
      "I speak BETTER now !!\n",
      "Epoch:   7 / 50, Batch:   16 / 32, Training Loss Error:  1.525, Training Time on 100 Batches: 198 seconds\n",
      "Validation Loss Error:  1.286, Batch Validation Time: 7 seconds\n",
      "I speak BETTER now !!\n",
      "Epoch:   8 / 50, Batch:    0 / 32, Training Loss Error:  1.609, Training Time on 100 Batches: 97 seconds\n",
      "Validation Loss Error:  1.293, Batch Validation Time: 7 seconds\n",
      "Sorry I do not speak better, I need to practice more .\n",
      "Epoch:   8 / 50, Batch:   16 / 32, Training Loss Error:  1.500, Training Time on 100 Batches: 224 seconds\n",
      "Validation Loss Error:  1.284, Batch Validation Time: 7 seconds\n",
      "I speak BETTER now !!\n",
      "Epoch:   9 / 50, Batch:    0 / 32, Training Loss Error:  1.592, Training Time on 100 Batches: 98 seconds\n",
      "Validation Loss Error:  1.289, Batch Validation Time: 7 seconds\n",
      "Sorry I do not speak better, I need to practice more .\n",
      "Epoch:   9 / 50, Batch:   16 / 32, Training Loss Error:  1.481, Training Time on 100 Batches: 230 seconds\n",
      "Validation Loss Error:  1.283, Batch Validation Time: 7 seconds\n",
      "I speak BETTER now !!\n",
      "Epoch:  10 / 50, Batch:    0 / 32, Training Loss Error:  1.569, Training Time on 100 Batches: 99 seconds\n",
      "Validation Loss Error:  1.279, Batch Validation Time: 7 seconds\n",
      "I speak BETTER now !!\n",
      "Epoch:  10 / 50, Batch:   16 / 32, Training Loss Error:  1.462, Training Time on 100 Batches: 240 seconds\n",
      "Validation Loss Error:  1.285, Batch Validation Time: 7 seconds\n",
      "Sorry I do not speak better, I need to practice more .\n",
      "Epoch:  11 / 50, Batch:    0 / 32, Training Loss Error:  1.551, Training Time on 100 Batches: 104 seconds\n",
      "Validation Loss Error:  1.273, Batch Validation Time: 7 seconds\n",
      "I speak BETTER now !!\n",
      "Epoch:  11 / 50, Batch:   16 / 32, Training Loss Error:  1.438, Training Time on 100 Batches: 254 seconds\n",
      "Validation Loss Error:  1.279, Batch Validation Time: 7 seconds\n",
      "Sorry I do not speak better, I need to practice more .\n",
      "Epoch:  12 / 50, Batch:    0 / 32, Training Loss Error:  1.534, Training Time on 100 Batches: 111 seconds\n",
      "Validation Loss Error:  1.279, Batch Validation Time: 7 seconds\n",
      "Sorry I do not speak better, I need to practice more .\n",
      "Epoch:  12 / 50, Batch:   16 / 32, Training Loss Error:  1.422, Training Time on 100 Batches: 292 seconds\n",
      "Validation Loss Error:  1.276, Batch Validation Time: 7 seconds\n",
      "Sorry I do not speak better, I need to practice more .\n",
      "Epoch:  13 / 50, Batch:    0 / 32, Training Loss Error:  1.516, Training Time on 100 Batches: 122 seconds\n",
      "Validation Loss Error:  1.291, Batch Validation Time: 8 seconds\n",
      "Sorry I do not speak better, I need to practice more .\n",
      "Epoch:  13 / 50, Batch:   16 / 32, Training Loss Error:  1.403, Training Time on 100 Batches: 300 seconds\n",
      "Validation Loss Error:  1.273, Batch Validation Time: 7 seconds\n",
      "I speak BETTER now !!\n",
      "Epoch:  14 / 50, Batch:    0 / 32, Training Loss Error:  1.502, Training Time on 100 Batches: 120 seconds\n",
      "Validation Loss Error:  1.280, Batch Validation Time: 8 seconds\n",
      "Sorry I do not speak better, I need to practice more .\n",
      "Epoch:  14 / 50, Batch:   16 / 32, Training Loss Error:  1.395, Training Time on 100 Batches: 304 seconds\n",
      "Validation Loss Error:  1.276, Batch Validation Time: 7 seconds\n",
      "Sorry I do not speak better, I need to practice more .\n",
      "Epoch:  15 / 50, Batch:    0 / 32, Training Loss Error:  1.486, Training Time on 100 Batches: 124 seconds\n",
      "Validation Loss Error:  1.301, Batch Validation Time: 7 seconds\n",
      "Sorry I do not speak better, I need to practice more .\n",
      "Epoch:  15 / 50, Batch:   16 / 32, Training Loss Error:  1.381, Training Time on 100 Batches: 289 seconds\n",
      "Validation Loss Error:  1.285, Batch Validation Time: 7 seconds\n",
      "Sorry I do not speak better, I need to practice more .\n",
      "Epoch:  16 / 50, Batch:    0 / 32, Training Loss Error:  1.474, Training Time on 100 Batches: 128 seconds\n",
      "Validation Loss Error:  1.322, Batch Validation Time: 7 seconds\n",
      "Sorry I do not speak better, I need to practice more .\n",
      "Epoch:  16 / 50, Batch:   16 / 32, Training Loss Error:  1.374, Training Time on 100 Batches: 313 seconds\n",
      "Validation Loss Error:  1.299, Batch Validation Time: 7 seconds\n",
      "Sorry I do not speak better, I need to practice more .\n",
      "Epoch:  17 / 50, Batch:    0 / 32, Training Loss Error:  1.460, Training Time on 100 Batches: 132 seconds\n",
      "Validation Loss Error:  1.339, Batch Validation Time: 7 seconds\n",
      "Sorry I do not speak better, I need to practice more .\n",
      "Epoch:  17 / 50, Batch:   16 / 32, Training Loss Error:  1.361, Training Time on 100 Batches: 352 seconds\n",
      "Validation Loss Error:  1.310, Batch Validation Time: 7 seconds\n",
      "Sorry I do not speak better, I need to practice more .\n",
      "Epoch:  18 / 50, Batch:    0 / 32, Training Loss Error:  1.449, Training Time on 100 Batches: 134 seconds\n",
      "Validation Loss Error:  1.305, Batch Validation Time: 7 seconds\n",
      "Sorry I do not speak better, I need to practice more .\n",
      "Epoch:  18 / 50, Batch:   16 / 32, Training Loss Error:  1.346, Training Time on 100 Batches: 311 seconds\n",
      "Validation Loss Error:  1.304, Batch Validation Time: 7 seconds\n",
      "Sorry I do not speak better, I need to practice more .\n",
      "Epoch:  19 / 50, Batch:    0 / 32, Training Loss Error:  1.436, Training Time on 100 Batches: 132 seconds\n",
      "Validation Loss Error:  1.296, Batch Validation Time: 7 seconds\n",
      "Sorry I do not speak better, I need to practice more .\n",
      "Epoch:  19 / 50, Batch:   16 / 32, Training Loss Error:  1.337, Training Time on 100 Batches: 330 seconds\n",
      "Validation Loss Error:  1.287, Batch Validation Time: 7 seconds\n",
      "Sorry I do not speak better, I need to practice more .\n",
      "Epoch:  20 / 50, Batch:    0 / 32, Training Loss Error:  1.426, Training Time on 100 Batches: 136 seconds\n",
      "Validation Loss Error:  1.332, Batch Validation Time: 7 seconds\n",
      "Sorry I do not speak better, I need to practice more .\n",
      "Epoch:  20 / 50, Batch:   16 / 32, Training Loss Error:  1.327, Training Time on 100 Batches: 334 seconds\n",
      "Validation Loss Error:  1.310, Batch Validation Time: 7 seconds\n",
      "Sorry I do not speak better, I need to practice more .\n",
      "Epoch:  21 / 50, Batch:    0 / 32, Training Loss Error:  1.422, Training Time on 100 Batches: 137 seconds\n",
      "Validation Loss Error:  1.334, Batch Validation Time: 7 seconds\n",
      "Sorry I do not speak better, I need to practice more .\n",
      "Epoch:  21 / 50, Batch:   16 / 32, Training Loss Error:  1.316, Training Time on 100 Batches: 334 seconds\n"
     ]
    }
   ],
   "source": [
    "# Training\n",
    "\n",
    "batch_index_check_training_loss = 16 # default: 100\n",
    "batch_index_check_validation_loss = ((len(training_questions)) // batch_size // 2) - 1\n",
    "total_training_loss_error = 0\n",
    "list_validation_loss_error = []\n",
    "early_stopping_check = 0\n",
    "early_stopping_stop = 50 # default: 50 or 1000\n",
    "checkpoint = \"drive/My Drive/BE Project/chatbot_weights_java.ckpt\"\n",
    "session.run(tf.global_variables_initializer())\n",
    "for epoch in range(1, epochs + 1):\n",
    "  for batch_index, (padded_questions_in_batch, padded_answers_in_batch) in enumerate(split_into_batches(training_questions, training_answers, batch_size)):\n",
    "    starting_time = time.time()\n",
    "    _, batch_training_loss_error = session.run([optimizer_gradient_clipping, loss_error], {inputs: padded_questions_in_batch, \n",
    "                                                                                           targets: padded_answers_in_batch, \n",
    "                                                                                           lr: learning_rate, \n",
    "                                                                                           sequence_length: padded_answers_in_batch.shape[1],\n",
    "                                                                                           keep_prob: keep_probability})\n",
    "    total_training_loss_error += batch_training_loss_error\n",
    "    ending_time = time.time()\n",
    "    batch_time = ending_time - starting_time\n",
    "    if batch_index % batch_index_check_training_loss == 0:\n",
    "      print('Epoch: {:>3} / {}, Batch: {:>4} / {}, Training Loss Error: {:>6.3f}, Training Time on 100 Batches: {:d} seconds'.format(epoch,\n",
    "                                                                                                                                     epochs,\n",
    "                                                                                                                                     batch_index,\n",
    "                                                                                                                                     len(training_questions) // batch_size,\n",
    "                                                                                                                                     total_training_loss_error / batch_index_check_training_loss,\n",
    "                                                                                                                                     int(batch_time * batch_index_check_training_loss)))\n",
    "      total_training_loss_error = 0\n",
    "    if batch_index % batch_index_check_validation_loss == 0 and batch_index > 0:\n",
    "      total_validation_loss_error = 0\n",
    "      starting_time = time.time()\n",
    "      for batch_index_validation, (padded_questions_in_batch, padded_answers_in_batch) in enumerate(split_into_batches(validation_questions, validation_answers, batch_size)):\n",
    "        batch_validation_loss_error = session.run(loss_error, {inputs: padded_questions_in_batch, \n",
    "                                                               targets: padded_answers_in_batch, \n",
    "                                                               lr: learning_rate, \n",
    "                                                               sequence_length: padded_answers_in_batch.shape[1],\n",
    "                                                               keep_prob: 1})\n",
    "        total_validation_loss_error += batch_validation_loss_error\n",
    "      ending_time = time.time()\n",
    "      batch_time = ending_time - starting_time\n",
    "      average_validation_loss_error = total_validation_loss_error / (len(validation_questions) / batch_size)\n",
    "      print('Validation Loss Error: {:>6.3f}, Batch Validation Time: {:d} seconds'.format(average_validation_loss_error, int(batch_time)))\n",
    "      learning_rate *= learning_rate_decay\n",
    "      if learning_rate < min_learning_rate:\n",
    "        learning_rate = min_learning_rate\n",
    "      list_validation_loss_error.append(average_validation_loss_error)\n",
    "      if average_validation_loss_error <= min(list_validation_loss_error):\n",
    "        print('I speak BETTER now !!')\n",
    "        early_stopping_check = 0\n",
    "        saver = tf.train.Saver()\n",
    "        saver.save(session, checkpoint)\n",
    "      else:\n",
    "        print('Sorry I do not speak better, I need to practice more .')\n",
    "        early_stopping_check += 1\n",
    "        if early_stopping_check == early_stopping_stop:\n",
    "          break\n",
    "  if early_stopping_check == early_stopping_stop:\n",
    "    print(\"My apologies, I cannot speak better anymore. This is the best I can do .\")\n",
    "    break\n",
    "print(\"GAME OVER\")"
   ]
  },
  {
   "cell_type": "code",
   "execution_count": 0,
   "metadata": {
    "colab": {},
    "colab_type": "code",
    "id": "n4yCtAjwq1Sa"
   },
   "outputs": [],
   "source": [
    "# Loading the weights and running the session\n",
    "\n",
    "checkpoint = \"drive/My Drive/BE Project/chatbot_weights_java.ckpt\"\n",
    "session = tf.InteractiveSession()\n",
    "session.run(tf.global_variables_initializer())\n",
    "saver = tf.train.Saver()\n",
    "saver.restore(session, checkpoint)"
   ]
  },
  {
   "cell_type": "code",
   "execution_count": 0,
   "metadata": {
    "colab": {},
    "colab_type": "code",
    "id": "pSLUUXGBr_eW"
   },
   "outputs": [],
   "source": [
    "# Converting questions from strings to lists of integers\n",
    "\n",
    "def convert_string2int(question, word2int):\n",
    "  question = clean_text(question)\n",
    "  return [word2int.get(word, word2int['<OUT>']) for word in question.split()]"
   ]
  },
  {
   "cell_type": "code",
   "execution_count": 0,
   "metadata": {
    "colab": {},
    "colab_type": "code",
    "id": "vqlxoJ0Os0rA"
   },
   "outputs": [],
   "source": [
    "# Setting up the chat\n",
    "\n",
    "\n",
    "while(True):\n",
    "  question = input(\"You: \")\n",
    "  if question == \"Goodbye\":\n",
    "    break\n",
    "  question = convert_string2int(question, questionswords2int)\n",
    "  global max_sequence_length\n",
    "  question = question + [questionswords2int['<PAD>']] * (49 - len(question)) # CHANGE\n",
    "  print(\"Question: {}\".format(question))\n",
    "  fake_batch = np.zeros((batch_size, 49))\n",
    "  fake_batch[0] = question\n",
    "  predicted_answer = session.run(test_predictions, {inputs: fake_batch, keep_prob: 0.5})[0]\n",
    "  \n",
    "  answer = ''\n",
    "  for i in np.argmax(predicted_answer, 1):\n",
    "    if answersints2word[i] == 'i':\n",
    "      token = 'I'\n",
    "    elif answersints2word[i] == '<EOS>':\n",
    "      token = '.'\n",
    "    else:\n",
    "      token = ' ' + answersints2word[i]\n",
    "    answer += token\n",
    "    if token == '.':\n",
    "      break\n",
    "  print('Chatbot: ' + answer)"
   ]
  }
 ],
 "metadata": {
  "accelerator": "TPU",
  "colab": {
   "collapsed_sections": [],
   "name": "ChatbotUbuntu.ipynb",
   "provenance": [],
   "version": "0.3.2"
  },
  "kernelspec": {
   "display_name": "Python 3 (ipykernel)",
   "language": "python",
   "name": "python3"
  },
  "language_info": {
   "codemirror_mode": {
    "name": "ipython",
    "version": 3
   },
   "file_extension": ".py",
   "mimetype": "text/x-python",
   "name": "python",
   "nbconvert_exporter": "python",
   "pygments_lexer": "ipython3",
   "version": "3.9.13"
  }
 },
 "nbformat": 4,
 "nbformat_minor": 1
}
